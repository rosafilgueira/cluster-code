{
 "cells": [
  {
   "cell_type": "code",
   "execution_count": 1,
   "metadata": {},
   "outputs": [],
   "source": [
    "import os\n",
    "import sys\n",
    "import glob\n",
    "from lxml import etree"
   ]
  },
  {
   "cell_type": "code",
   "execution_count": 2,
   "metadata": {},
   "outputs": [
    {
     "name": "stdout",
     "output_type": "stream",
     "text": [
      "/Users/rosafilgueira/EPCC/ATI-SE/Humanities/cluster-code/bluclobber/test/fixtures\n"
     ]
    }
   ],
   "source": [
    "fixtures=os.path.join(os.path.dirname(os.path.realpath('.')),'bluclobber','test','fixtures')\n",
    "print fixtures"
   ]
  },
  {
   "cell_type": "code",
   "execution_count": 3,
   "metadata": {},
   "outputs": [],
   "source": [
    "zip_code='000000037'\n",
    "book_code='000000218'"
   ]
  },
  {
   "cell_type": "code",
   "execution_count": 4,
   "metadata": {},
   "outputs": [
    {
     "name": "stdout",
     "output_type": "stream",
     "text": [
      "/Users/rosafilgueira/EPCC/ATI-SE/Humanities/cluster-code/bluclobber/test/fixtures/000000037_metadata.xml\n"
     ]
    }
   ],
   "source": [
    "manchester_1=glob.glob(os.path.join(fixtures,zip_code+'*'))[0]\n",
    "print manchester_1"
   ]
  },
  {
   "cell_type": "code",
   "execution_count": 5,
   "metadata": {},
   "outputs": [
    {
     "name": "stdout",
     "output_type": "stream",
     "text": [
      "/Users/rosafilgueira/EPCC/ATI-SE/Humanities/cluster-code/bluclobber/test/fixtures/000000218_metadata.xml\n"
     ]
    }
   ],
   "source": [
    "metadata_path=glob.glob(os.path.join(fixtures,book_code+'_metadata.xml'))[0]\n",
    "print metadata_path"
   ]
  },
  {
   "cell_type": "code",
   "execution_count": 6,
   "metadata": {},
   "outputs": [
    {
     "name": "stdout",
     "output_type": "stream",
     "text": [
      "['/Users/rosafilgueira/EPCC/ATI-SE/Humanities/cluster-code/bluclobber/test/fixtures/ALTO/000000218_03_000296.xml', '/Users/rosafilgueira/EPCC/ATI-SE/Humanities/cluster-code/bluclobber/test/fixtures/ALTO/000000218_03_000282.xml', '/Users/rosafilgueira/EPCC/ATI-SE/Humanities/cluster-code/bluclobber/test/fixtures/ALTO/000000218_03_000269.xml', '/Users/rosafilgueira/EPCC/ATI-SE/Humanities/cluster-code/bluclobber/test/fixtures/ALTO/000000218_03_000255.xml', '/Users/rosafilgueira/EPCC/ATI-SE/Humanities/cluster-code/bluclobber/test/fixtures/ALTO/000000218_03_000241.xml', '/Users/rosafilgueira/EPCC/ATI-SE/Humanities/cluster-code/bluclobber/test/fixtures/ALTO/000000218_03_000094.xml', '/Users/rosafilgueira/EPCC/ATI-SE/Humanities/cluster-code/bluclobber/test/fixtures/ALTO/000000218_03_000080.xml', '/Users/rosafilgueira/EPCC/ATI-SE/Humanities/cluster-code/bluclobber/test/fixtures/ALTO/000000218_03_000057.xml', '/Users/rosafilgueira/EPCC/ATI-SE/Humanities/cluster-code/bluclobber/test/fixtures/ALTO/000000218_03_000043.xml', '/Users/rosafilgueira/EPCC/ATI-SE/Humanities/cluster-code/bluclobber/test/fixtures/ALTO/000000218_03_000123.xml', '/Users/rosafilgueira/EPCC/ATI-SE/Humanities/cluster-code/bluclobber/test/fixtures/ALTO/000000218_03_000137.xml', '/Users/rosafilgueira/EPCC/ATI-SE/Humanities/cluster-code/bluclobber/test/fixtures/ALTO/000000218_03_000136.xml', '/Users/rosafilgueira/EPCC/ATI-SE/Humanities/cluster-code/bluclobber/test/fixtures/ALTO/000000218_03_000122.xml', '/Users/rosafilgueira/EPCC/ATI-SE/Humanities/cluster-code/bluclobber/test/fixtures/ALTO/000000218_03_000042.xml', '/Users/rosafilgueira/EPCC/ATI-SE/Humanities/cluster-code/bluclobber/test/fixtures/ALTO/000000218_03_000056.xml', '/Users/rosafilgueira/EPCC/ATI-SE/Humanities/cluster-code/bluclobber/test/fixtures/ALTO/000000218_03_000081.xml', '/Users/rosafilgueira/EPCC/ATI-SE/Humanities/cluster-code/bluclobber/test/fixtures/ALTO/000000218_03_000095.xml', '/Users/rosafilgueira/EPCC/ATI-SE/Humanities/cluster-code/bluclobber/test/fixtures/ALTO/000000218_03_000240.xml', '/Users/rosafilgueira/EPCC/ATI-SE/Humanities/cluster-code/bluclobber/test/fixtures/ALTO/000000218_03_000254.xml', '/Users/rosafilgueira/EPCC/ATI-SE/Humanities/cluster-code/bluclobber/test/fixtures/ALTO/000000218_03_000268.xml', '/Users/rosafilgueira/EPCC/ATI-SE/Humanities/cluster-code/bluclobber/test/fixtures/ALTO/000000218_03_000283.xml', '/Users/rosafilgueira/EPCC/ATI-SE/Humanities/cluster-code/bluclobber/test/fixtures/ALTO/000000218_03_000297.xml', '/Users/rosafilgueira/EPCC/ATI-SE/Humanities/cluster-code/bluclobber/test/fixtures/ALTO/000000218_03_000281.xml', '/Users/rosafilgueira/EPCC/ATI-SE/Humanities/cluster-code/bluclobber/test/fixtures/ALTO/000000218_03_000295.xml', '/Users/rosafilgueira/EPCC/ATI-SE/Humanities/cluster-code/bluclobber/test/fixtures/ALTO/000000218_03_000242.xml', '/Users/rosafilgueira/EPCC/ATI-SE/Humanities/cluster-code/bluclobber/test/fixtures/ALTO/000000218_03_000256.xml', '/Users/rosafilgueira/EPCC/ATI-SE/Humanities/cluster-code/bluclobber/test/fixtures/ALTO/000000218_03_000083.xml', '/Users/rosafilgueira/EPCC/ATI-SE/Humanities/cluster-code/bluclobber/test/fixtures/ALTO/000000218_03_000097.xml', '/Users/rosafilgueira/EPCC/ATI-SE/Humanities/cluster-code/bluclobber/test/fixtures/ALTO/000000218_03_000068.xml', '/Users/rosafilgueira/EPCC/ATI-SE/Humanities/cluster-code/bluclobber/test/fixtures/ALTO/000000218_03_000040.xml', '/Users/rosafilgueira/EPCC/ATI-SE/Humanities/cluster-code/bluclobber/test/fixtures/ALTO/000000218_03_000054.xml', '/Users/rosafilgueira/EPCC/ATI-SE/Humanities/cluster-code/bluclobber/test/fixtures/ALTO/000000218_03_000108.xml', '/Users/rosafilgueira/EPCC/ATI-SE/Humanities/cluster-code/bluclobber/test/fixtures/ALTO/000000218_03_000134.xml', '/Users/rosafilgueira/EPCC/ATI-SE/Humanities/cluster-code/bluclobber/test/fixtures/ALTO/000000218_03_000120.xml', '/Users/rosafilgueira/EPCC/ATI-SE/Humanities/cluster-code/bluclobber/test/fixtures/ALTO/000000218_03_000121.xml', '/Users/rosafilgueira/EPCC/ATI-SE/Humanities/cluster-code/bluclobber/test/fixtures/ALTO/000000218_03_000135.xml', '/Users/rosafilgueira/EPCC/ATI-SE/Humanities/cluster-code/bluclobber/test/fixtures/ALTO/000000218_03_000109.xml', '/Users/rosafilgueira/EPCC/ATI-SE/Humanities/cluster-code/bluclobber/test/fixtures/ALTO/000000218_03_000055.xml', '/Users/rosafilgueira/EPCC/ATI-SE/Humanities/cluster-code/bluclobber/test/fixtures/ALTO/000000218_03_000041.xml', '/Users/rosafilgueira/EPCC/ATI-SE/Humanities/cluster-code/bluclobber/test/fixtures/ALTO/000000218_03_000069.xml', '/Users/rosafilgueira/EPCC/ATI-SE/Humanities/cluster-code/bluclobber/test/fixtures/ALTO/000000218_03_000096.xml', '/Users/rosafilgueira/EPCC/ATI-SE/Humanities/cluster-code/bluclobber/test/fixtures/ALTO/000000218_03_000082.xml', '/Users/rosafilgueira/EPCC/ATI-SE/Humanities/cluster-code/bluclobber/test/fixtures/ALTO/000000218_03_000257.xml', '/Users/rosafilgueira/EPCC/ATI-SE/Humanities/cluster-code/bluclobber/test/fixtures/ALTO/000000218_03_000243.xml', '/Users/rosafilgueira/EPCC/ATI-SE/Humanities/cluster-code/bluclobber/test/fixtures/ALTO/000000218_03_000294.xml', '/Users/rosafilgueira/EPCC/ATI-SE/Humanities/cluster-code/bluclobber/test/fixtures/ALTO/000000218_03_000280.xml', '/Users/rosafilgueira/EPCC/ATI-SE/Humanities/cluster-code/bluclobber/test/fixtures/ALTO/000000218_03_000284.xml', '/Users/rosafilgueira/EPCC/ATI-SE/Humanities/cluster-code/bluclobber/test/fixtures/ALTO/000000218_03_000290.xml', '/Users/rosafilgueira/EPCC/ATI-SE/Humanities/cluster-code/bluclobber/test/fixtures/ALTO/000000218_03_000247.xml', '/Users/rosafilgueira/EPCC/ATI-SE/Humanities/cluster-code/bluclobber/test/fixtures/ALTO/000000218_03_000253.xml', '/Users/rosafilgueira/EPCC/ATI-SE/Humanities/cluster-code/bluclobber/test/fixtures/ALTO/000000218_03_000086.xml', '/Users/rosafilgueira/EPCC/ATI-SE/Humanities/cluster-code/bluclobber/test/fixtures/ALTO/000000218_03_000092.xml', '/Users/rosafilgueira/EPCC/ATI-SE/Humanities/cluster-code/bluclobber/test/fixtures/ALTO/000000218_03_000045.xml', '/Users/rosafilgueira/EPCC/ATI-SE/Humanities/cluster-code/bluclobber/test/fixtures/ALTO/000000218_03_000051.xml', '/Users/rosafilgueira/EPCC/ATI-SE/Humanities/cluster-code/bluclobber/test/fixtures/ALTO/000000218_03_000079.xml', '/Users/rosafilgueira/EPCC/ATI-SE/Humanities/cluster-code/bluclobber/test/fixtures/ALTO/000000218_03_000131.xml', '/Users/rosafilgueira/EPCC/ATI-SE/Humanities/cluster-code/bluclobber/test/fixtures/ALTO/000000218_03_000125.xml', '/Users/rosafilgueira/EPCC/ATI-SE/Humanities/cluster-code/bluclobber/test/fixtures/ALTO/000000218_03_000119.xml', '/Users/rosafilgueira/EPCC/ATI-SE/Humanities/cluster-code/bluclobber/test/fixtures/ALTO/000000218_03_000118.xml', '/Users/rosafilgueira/EPCC/ATI-SE/Humanities/cluster-code/bluclobber/test/fixtures/ALTO/000000218_03_000124.xml', '/Users/rosafilgueira/EPCC/ATI-SE/Humanities/cluster-code/bluclobber/test/fixtures/ALTO/000000218_03_000130.xml', '/Users/rosafilgueira/EPCC/ATI-SE/Humanities/cluster-code/bluclobber/test/fixtures/ALTO/000000218_03_000078.xml', '/Users/rosafilgueira/EPCC/ATI-SE/Humanities/cluster-code/bluclobber/test/fixtures/ALTO/000000218_03_000050.xml', '/Users/rosafilgueira/EPCC/ATI-SE/Humanities/cluster-code/bluclobber/test/fixtures/ALTO/000000218_03_000044.xml', '/Users/rosafilgueira/EPCC/ATI-SE/Humanities/cluster-code/bluclobber/test/fixtures/ALTO/000000218_03_000093.xml', '/Users/rosafilgueira/EPCC/ATI-SE/Humanities/cluster-code/bluclobber/test/fixtures/ALTO/000000218_03_000087.xml', '/Users/rosafilgueira/EPCC/ATI-SE/Humanities/cluster-code/bluclobber/test/fixtures/ALTO/000000218_03_000252.xml', '/Users/rosafilgueira/EPCC/ATI-SE/Humanities/cluster-code/bluclobber/test/fixtures/ALTO/000000218_03_000246.xml', '/Users/rosafilgueira/EPCC/ATI-SE/Humanities/cluster-code/bluclobber/test/fixtures/ALTO/000000218_03_000291.xml', '/Users/rosafilgueira/EPCC/ATI-SE/Humanities/cluster-code/bluclobber/test/fixtures/ALTO/000000218_03_000285.xml', '/Users/rosafilgueira/EPCC/ATI-SE/Humanities/cluster-code/bluclobber/test/fixtures/ALTO/000000218_03_000293.xml', '/Users/rosafilgueira/EPCC/ATI-SE/Humanities/cluster-code/bluclobber/test/fixtures/ALTO/000000218_03_000287.xml', '/Users/rosafilgueira/EPCC/ATI-SE/Humanities/cluster-code/bluclobber/test/fixtures/ALTO/000000218_03_000250.xml', '/Users/rosafilgueira/EPCC/ATI-SE/Humanities/cluster-code/bluclobber/test/fixtures/ALTO/000000218_03_000244.xml', '/Users/rosafilgueira/EPCC/ATI-SE/Humanities/cluster-code/bluclobber/test/fixtures/ALTO/000000218_03_000278.xml', '/Users/rosafilgueira/EPCC/ATI-SE/Humanities/cluster-code/bluclobber/test/fixtures/ALTO/000000218_03_000091.xml', '/Users/rosafilgueira/EPCC/ATI-SE/Humanities/cluster-code/bluclobber/test/fixtures/ALTO/000000218_03_000085.xml', '/Users/rosafilgueira/EPCC/ATI-SE/Humanities/cluster-code/bluclobber/test/fixtures/ALTO/000000218_03_000052.xml', '/Users/rosafilgueira/EPCC/ATI-SE/Humanities/cluster-code/bluclobber/test/fixtures/ALTO/000000218_03_000046.xml', '/Users/rosafilgueira/EPCC/ATI-SE/Humanities/cluster-code/bluclobber/test/fixtures/ALTO/000000218_03_000126.xml', '/Users/rosafilgueira/EPCC/ATI-SE/Humanities/cluster-code/bluclobber/test/fixtures/ALTO/000000218_03_000132.xml', '/Users/rosafilgueira/EPCC/ATI-SE/Humanities/cluster-code/bluclobber/test/fixtures/ALTO/000000218_03_000133.xml', '/Users/rosafilgueira/EPCC/ATI-SE/Humanities/cluster-code/bluclobber/test/fixtures/ALTO/000000218_03_000127.xml', '/Users/rosafilgueira/EPCC/ATI-SE/Humanities/cluster-code/bluclobber/test/fixtures/ALTO/000000218_03_000047.xml', '/Users/rosafilgueira/EPCC/ATI-SE/Humanities/cluster-code/bluclobber/test/fixtures/ALTO/000000218_03_000053.xml', '/Users/rosafilgueira/EPCC/ATI-SE/Humanities/cluster-code/bluclobber/test/fixtures/ALTO/000000218_03_000084.xml', '/Users/rosafilgueira/EPCC/ATI-SE/Humanities/cluster-code/bluclobber/test/fixtures/ALTO/000000218_03_000090.xml', '/Users/rosafilgueira/EPCC/ATI-SE/Humanities/cluster-code/bluclobber/test/fixtures/ALTO/000000218_03_000279.xml', '/Users/rosafilgueira/EPCC/ATI-SE/Humanities/cluster-code/bluclobber/test/fixtures/ALTO/000000218_03_000245.xml', '/Users/rosafilgueira/EPCC/ATI-SE/Humanities/cluster-code/bluclobber/test/fixtures/ALTO/000000218_03_000251.xml', '/Users/rosafilgueira/EPCC/ATI-SE/Humanities/cluster-code/bluclobber/test/fixtures/ALTO/000000218_03_000286.xml', '/Users/rosafilgueira/EPCC/ATI-SE/Humanities/cluster-code/bluclobber/test/fixtures/ALTO/000000218_03_000292.xml', '/Users/rosafilgueira/EPCC/ATI-SE/Humanities/cluster-code/bluclobber/test/fixtures/ALTO/000000218_03_000236.xml', '/Users/rosafilgueira/EPCC/ATI-SE/Humanities/cluster-code/bluclobber/test/fixtures/ALTO/000000218_03_000222.xml', '/Users/rosafilgueira/EPCC/ATI-SE/Humanities/cluster-code/bluclobber/test/fixtures/ALTO/000000218_03_000008.xml', '/Users/rosafilgueira/EPCC/ATI-SE/Humanities/cluster-code/bluclobber/test/fixtures/ALTO/000000218_03_000034.xml', '/Users/rosafilgueira/EPCC/ATI-SE/Humanities/cluster-code/bluclobber/test/fixtures/ALTO/000000218_03_000020.xml', '/Users/rosafilgueira/EPCC/ATI-SE/Humanities/cluster-code/bluclobber/test/fixtures/ALTO/000000218_03_000183.xml', '/Users/rosafilgueira/EPCC/ATI-SE/Humanities/cluster-code/bluclobber/test/fixtures/ALTO/000000218_03_000197.xml', '/Users/rosafilgueira/EPCC/ATI-SE/Humanities/cluster-code/bluclobber/test/fixtures/ALTO/000000218_03_000168.xml', '/Users/rosafilgueira/EPCC/ATI-SE/Humanities/cluster-code/bluclobber/test/fixtures/ALTO/000000218_03_000140.xml', '/Users/rosafilgueira/EPCC/ATI-SE/Humanities/cluster-code/bluclobber/test/fixtures/ALTO/000000218_03_000154.xml', '/Users/rosafilgueira/EPCC/ATI-SE/Humanities/cluster-code/bluclobber/test/fixtures/ALTO/000000218_03_000155.xml', '/Users/rosafilgueira/EPCC/ATI-SE/Humanities/cluster-code/bluclobber/test/fixtures/ALTO/000000218_03_000141.xml', '/Users/rosafilgueira/EPCC/ATI-SE/Humanities/cluster-code/bluclobber/test/fixtures/ALTO/000000218_03_000169.xml', '/Users/rosafilgueira/EPCC/ATI-SE/Humanities/cluster-code/bluclobber/test/fixtures/ALTO/000000218_03_000196.xml', '/Users/rosafilgueira/EPCC/ATI-SE/Humanities/cluster-code/bluclobber/test/fixtures/ALTO/000000218_03_000182.xml', '/Users/rosafilgueira/EPCC/ATI-SE/Humanities/cluster-code/bluclobber/test/fixtures/ALTO/000000218_03_000021.xml', '/Users/rosafilgueira/EPCC/ATI-SE/Humanities/cluster-code/bluclobber/test/fixtures/ALTO/000000218_03_000035.xml', '/Users/rosafilgueira/EPCC/ATI-SE/Humanities/cluster-code/bluclobber/test/fixtures/ALTO/000000218_03_000009.xml', '/Users/rosafilgueira/EPCC/ATI-SE/Humanities/cluster-code/bluclobber/test/fixtures/ALTO/000000218_03_000223.xml', '/Users/rosafilgueira/EPCC/ATI-SE/Humanities/cluster-code/bluclobber/test/fixtures/ALTO/000000218_03_000237.xml', '/Users/rosafilgueira/EPCC/ATI-SE/Humanities/cluster-code/bluclobber/test/fixtures/ALTO/000000218_03_000209.xml', '/Users/rosafilgueira/EPCC/ATI-SE/Humanities/cluster-code/bluclobber/test/fixtures/ALTO/000000218_03_000221.xml', '/Users/rosafilgueira/EPCC/ATI-SE/Humanities/cluster-code/bluclobber/test/fixtures/ALTO/000000218_03_000235.xml', '/Users/rosafilgueira/EPCC/ATI-SE/Humanities/cluster-code/bluclobber/test/fixtures/ALTO/000000218_03_000023.xml', '/Users/rosafilgueira/EPCC/ATI-SE/Humanities/cluster-code/bluclobber/test/fixtures/ALTO/000000218_03_000037.xml', '/Users/rosafilgueira/EPCC/ATI-SE/Humanities/cluster-code/bluclobber/test/fixtures/ALTO/000000218_03_000194.xml', '/Users/rosafilgueira/EPCC/ATI-SE/Humanities/cluster-code/bluclobber/test/fixtures/ALTO/000000218_03_000180.xml', '/Users/rosafilgueira/EPCC/ATI-SE/Humanities/cluster-code/bluclobber/test/fixtures/ALTO/000000218_03_000157.xml', '/Users/rosafilgueira/EPCC/ATI-SE/Humanities/cluster-code/bluclobber/test/fixtures/ALTO/000000218_03_000143.xml', '/Users/rosafilgueira/EPCC/ATI-SE/Humanities/cluster-code/bluclobber/test/fixtures/ALTO/000000218_03_000142.xml', '/Users/rosafilgueira/EPCC/ATI-SE/Humanities/cluster-code/bluclobber/test/fixtures/ALTO/000000218_03_000156.xml', '/Users/rosafilgueira/EPCC/ATI-SE/Humanities/cluster-code/bluclobber/test/fixtures/ALTO/000000218_03_000181.xml', '/Users/rosafilgueira/EPCC/ATI-SE/Humanities/cluster-code/bluclobber/test/fixtures/ALTO/000000218_03_000195.xml', '/Users/rosafilgueira/EPCC/ATI-SE/Humanities/cluster-code/bluclobber/test/fixtures/ALTO/000000218_03_000036.xml', '/Users/rosafilgueira/EPCC/ATI-SE/Humanities/cluster-code/bluclobber/test/fixtures/ALTO/000000218_03_000022.xml', '/Users/rosafilgueira/EPCC/ATI-SE/Humanities/cluster-code/bluclobber/test/fixtures/ALTO/000000218_03_000234.xml', '/Users/rosafilgueira/EPCC/ATI-SE/Humanities/cluster-code/bluclobber/test/fixtures/ALTO/000000218_03_000220.xml', '/Users/rosafilgueira/EPCC/ATI-SE/Humanities/cluster-code/bluclobber/test/fixtures/ALTO/000000218_03_000208.xml', '/Users/rosafilgueira/EPCC/ATI-SE/Humanities/cluster-code/bluclobber/test/fixtures/ALTO/000000218_03_000224.xml', '/Users/rosafilgueira/EPCC/ATI-SE/Humanities/cluster-code/bluclobber/test/fixtures/ALTO/000000218_03_000230.xml', '/Users/rosafilgueira/EPCC/ATI-SE/Humanities/cluster-code/bluclobber/test/fixtures/ALTO/000000218_03_000218.xml', '/Users/rosafilgueira/EPCC/ATI-SE/Humanities/cluster-code/bluclobber/test/fixtures/ALTO/000000218_03_000026.xml', '/Users/rosafilgueira/EPCC/ATI-SE/Humanities/cluster-code/bluclobber/test/fixtures/ALTO/000000218_03_000032.xml', '/Users/rosafilgueira/EPCC/ATI-SE/Humanities/cluster-code/bluclobber/test/fixtures/ALTO/000000218_03_000191.xml', '/Users/rosafilgueira/EPCC/ATI-SE/Humanities/cluster-code/bluclobber/test/fixtures/ALTO/000000218_03_000185.xml', '/Users/rosafilgueira/EPCC/ATI-SE/Humanities/cluster-code/bluclobber/test/fixtures/ALTO/000000218_03_000152.xml', '/Users/rosafilgueira/EPCC/ATI-SE/Humanities/cluster-code/bluclobber/test/fixtures/ALTO/000000218_03_000146.xml', '/Users/rosafilgueira/EPCC/ATI-SE/Humanities/cluster-code/bluclobber/test/fixtures/ALTO/000000218_03_000147.xml', '/Users/rosafilgueira/EPCC/ATI-SE/Humanities/cluster-code/bluclobber/test/fixtures/ALTO/000000218_03_000153.xml', '/Users/rosafilgueira/EPCC/ATI-SE/Humanities/cluster-code/bluclobber/test/fixtures/ALTO/000000218_03_000184.xml', '/Users/rosafilgueira/EPCC/ATI-SE/Humanities/cluster-code/bluclobber/test/fixtures/ALTO/000000218_03_000190.xml', '/Users/rosafilgueira/EPCC/ATI-SE/Humanities/cluster-code/bluclobber/test/fixtures/ALTO/000000218_03_000033.xml', '/Users/rosafilgueira/EPCC/ATI-SE/Humanities/cluster-code/bluclobber/test/fixtures/ALTO/000000218_03_000027.xml', '/Users/rosafilgueira/EPCC/ATI-SE/Humanities/cluster-code/bluclobber/test/fixtures/ALTO/000000218_03_000219.xml', '/Users/rosafilgueira/EPCC/ATI-SE/Humanities/cluster-code/bluclobber/test/fixtures/ALTO/000000218_03_000231.xml', '/Users/rosafilgueira/EPCC/ATI-SE/Humanities/cluster-code/bluclobber/test/fixtures/ALTO/000000218_03_000225.xml', '/Users/rosafilgueira/EPCC/ATI-SE/Humanities/cluster-code/bluclobber/test/fixtures/ALTO/000000218_03_000233.xml', '/Users/rosafilgueira/EPCC/ATI-SE/Humanities/cluster-code/bluclobber/test/fixtures/ALTO/000000218_03_000227.xml', '/Users/rosafilgueira/EPCC/ATI-SE/Humanities/cluster-code/bluclobber/test/fixtures/ALTO/000000218_03_000031.xml', '/Users/rosafilgueira/EPCC/ATI-SE/Humanities/cluster-code/bluclobber/test/fixtures/ALTO/000000218_03_000025.xml', '/Users/rosafilgueira/EPCC/ATI-SE/Humanities/cluster-code/bluclobber/test/fixtures/ALTO/000000218_03_000019.xml', '/Users/rosafilgueira/EPCC/ATI-SE/Humanities/cluster-code/bluclobber/test/fixtures/ALTO/000000218_03_000186.xml', '/Users/rosafilgueira/EPCC/ATI-SE/Humanities/cluster-code/bluclobber/test/fixtures/ALTO/000000218_03_000192.xml', '/Users/rosafilgueira/EPCC/ATI-SE/Humanities/cluster-code/bluclobber/test/fixtures/ALTO/000000218_03_000145.xml', '/Users/rosafilgueira/EPCC/ATI-SE/Humanities/cluster-code/bluclobber/test/fixtures/ALTO/000000218_03_000151.xml', '/Users/rosafilgueira/EPCC/ATI-SE/Humanities/cluster-code/bluclobber/test/fixtures/ALTO/000000218_03_000179.xml', '/Users/rosafilgueira/EPCC/ATI-SE/Humanities/cluster-code/bluclobber/test/fixtures/ALTO/000000218_03_000178.xml', '/Users/rosafilgueira/EPCC/ATI-SE/Humanities/cluster-code/bluclobber/test/fixtures/ALTO/000000218_03_000150.xml', '/Users/rosafilgueira/EPCC/ATI-SE/Humanities/cluster-code/bluclobber/test/fixtures/ALTO/000000218_03_000144.xml', '/Users/rosafilgueira/EPCC/ATI-SE/Humanities/cluster-code/bluclobber/test/fixtures/ALTO/000000218_03_000193.xml', '/Users/rosafilgueira/EPCC/ATI-SE/Humanities/cluster-code/bluclobber/test/fixtures/ALTO/000000218_03_000187.xml', '/Users/rosafilgueira/EPCC/ATI-SE/Humanities/cluster-code/bluclobber/test/fixtures/ALTO/000000218_03_000018.xml', '/Users/rosafilgueira/EPCC/ATI-SE/Humanities/cluster-code/bluclobber/test/fixtures/ALTO/000000218_03_000024.xml', '/Users/rosafilgueira/EPCC/ATI-SE/Humanities/cluster-code/bluclobber/test/fixtures/ALTO/000000218_03_000030.xml', '/Users/rosafilgueira/EPCC/ATI-SE/Humanities/cluster-code/bluclobber/test/fixtures/ALTO/000000218_03_000226.xml', '/Users/rosafilgueira/EPCC/ATI-SE/Humanities/cluster-code/bluclobber/test/fixtures/ALTO/000000218_03_000232.xml', '/Users/rosafilgueira/EPCC/ATI-SE/Humanities/cluster-code/bluclobber/test/fixtures/ALTO/000000218_03_000217.xml', '/Users/rosafilgueira/EPCC/ATI-SE/Humanities/cluster-code/bluclobber/test/fixtures/ALTO/000000218_03_000203.xml', '/Users/rosafilgueira/EPCC/ATI-SE/Humanities/cluster-code/bluclobber/test/fixtures/ALTO/000000218_03_000029.xml', '/Users/rosafilgueira/EPCC/ATI-SE/Humanities/cluster-code/bluclobber/test/fixtures/ALTO/000000218_03_000015.xml', '/Users/rosafilgueira/EPCC/ATI-SE/Humanities/cluster-code/bluclobber/test/fixtures/ALTO/000000218_03_000001.xml', '/Users/rosafilgueira/EPCC/ATI-SE/Humanities/cluster-code/bluclobber/test/fixtures/ALTO/000000218_03_000149.xml', '/Users/rosafilgueira/EPCC/ATI-SE/Humanities/cluster-code/bluclobber/test/fixtures/ALTO/000000218_03_000161.xml', '/Users/rosafilgueira/EPCC/ATI-SE/Humanities/cluster-code/bluclobber/test/fixtures/ALTO/000000218_03_000175.xml', '/Users/rosafilgueira/EPCC/ATI-SE/Humanities/cluster-code/bluclobber/test/fixtures/ALTO/000000218_03_000174.xml', '/Users/rosafilgueira/EPCC/ATI-SE/Humanities/cluster-code/bluclobber/test/fixtures/ALTO/000000218_03_000160.xml', '/Users/rosafilgueira/EPCC/ATI-SE/Humanities/cluster-code/bluclobber/test/fixtures/ALTO/000000218_03_000148.xml', '/Users/rosafilgueira/EPCC/ATI-SE/Humanities/cluster-code/bluclobber/test/fixtures/ALTO/000000218_03_000014.xml', '/Users/rosafilgueira/EPCC/ATI-SE/Humanities/cluster-code/bluclobber/test/fixtures/ALTO/000000218_03_000028.xml', '/Users/rosafilgueira/EPCC/ATI-SE/Humanities/cluster-code/bluclobber/test/fixtures/ALTO/000000218_03_000202.xml', '/Users/rosafilgueira/EPCC/ATI-SE/Humanities/cluster-code/bluclobber/test/fixtures/ALTO/000000218_03_000216.xml', '/Users/rosafilgueira/EPCC/ATI-SE/Humanities/cluster-code/bluclobber/test/fixtures/ALTO/000000218_03_000228.xml', '/Users/rosafilgueira/EPCC/ATI-SE/Humanities/cluster-code/bluclobber/test/fixtures/ALTO/000000218_03_000200.xml', '/Users/rosafilgueira/EPCC/ATI-SE/Humanities/cluster-code/bluclobber/test/fixtures/ALTO/000000218_03_000214.xml', '/Users/rosafilgueira/EPCC/ATI-SE/Humanities/cluster-code/bluclobber/test/fixtures/ALTO/000000218_03_000002.xml', '/Users/rosafilgueira/EPCC/ATI-SE/Humanities/cluster-code/bluclobber/test/fixtures/ALTO/000000218_03_000016.xml', '/Users/rosafilgueira/EPCC/ATI-SE/Humanities/cluster-code/bluclobber/test/fixtures/ALTO/000000218_03_000189.xml', '/Users/rosafilgueira/EPCC/ATI-SE/Humanities/cluster-code/bluclobber/test/fixtures/ALTO/000000218_03_000176.xml', '/Users/rosafilgueira/EPCC/ATI-SE/Humanities/cluster-code/bluclobber/test/fixtures/ALTO/000000218_03_000162.xml', '/Users/rosafilgueira/EPCC/ATI-SE/Humanities/cluster-code/bluclobber/test/fixtures/ALTO/000000218_03_000163.xml', '/Users/rosafilgueira/EPCC/ATI-SE/Humanities/cluster-code/bluclobber/test/fixtures/ALTO/000000218_03_000177.xml', '/Users/rosafilgueira/EPCC/ATI-SE/Humanities/cluster-code/bluclobber/test/fixtures/ALTO/000000218_03_000188.xml', '/Users/rosafilgueira/EPCC/ATI-SE/Humanities/cluster-code/bluclobber/test/fixtures/ALTO/000000218_03_000017.xml', '/Users/rosafilgueira/EPCC/ATI-SE/Humanities/cluster-code/bluclobber/test/fixtures/ALTO/000000218_03_000003.xml', '/Users/rosafilgueira/EPCC/ATI-SE/Humanities/cluster-code/bluclobber/test/fixtures/ALTO/000000218_03_000215.xml', '/Users/rosafilgueira/EPCC/ATI-SE/Humanities/cluster-code/bluclobber/test/fixtures/ALTO/000000218_03_000201.xml', '/Users/rosafilgueira/EPCC/ATI-SE/Humanities/cluster-code/bluclobber/test/fixtures/ALTO/000000218_03_000229.xml', '/Users/rosafilgueira/EPCC/ATI-SE/Humanities/cluster-code/bluclobber/test/fixtures/ALTO/000000218_03_000205.xml', '/Users/rosafilgueira/EPCC/ATI-SE/Humanities/cluster-code/bluclobber/test/fixtures/ALTO/000000218_03_000211.xml', '/Users/rosafilgueira/EPCC/ATI-SE/Humanities/cluster-code/bluclobber/test/fixtures/ALTO/000000218_03_000239.xml', '/Users/rosafilgueira/EPCC/ATI-SE/Humanities/cluster-code/bluclobber/test/fixtures/ALTO/000000218_03_000007.xml', '/Users/rosafilgueira/EPCC/ATI-SE/Humanities/cluster-code/bluclobber/test/fixtures/ALTO/000000218_03_000013.xml', '/Users/rosafilgueira/EPCC/ATI-SE/Humanities/cluster-code/bluclobber/test/fixtures/ALTO/000000218_03_000198.xml', '/Users/rosafilgueira/EPCC/ATI-SE/Humanities/cluster-code/bluclobber/test/fixtures/ALTO/000000218_03_000173.xml', '/Users/rosafilgueira/EPCC/ATI-SE/Humanities/cluster-code/bluclobber/test/fixtures/ALTO/000000218_03_000167.xml', '/Users/rosafilgueira/EPCC/ATI-SE/Humanities/cluster-code/bluclobber/test/fixtures/ALTO/000000218_03_000166.xml', '/Users/rosafilgueira/EPCC/ATI-SE/Humanities/cluster-code/bluclobber/test/fixtures/ALTO/000000218_03_000172.xml', '/Users/rosafilgueira/EPCC/ATI-SE/Humanities/cluster-code/bluclobber/test/fixtures/ALTO/000000218_03_000199.xml', '/Users/rosafilgueira/EPCC/ATI-SE/Humanities/cluster-code/bluclobber/test/fixtures/ALTO/000000218_03_000012.xml', '/Users/rosafilgueira/EPCC/ATI-SE/Humanities/cluster-code/bluclobber/test/fixtures/ALTO/000000218_03_000006.xml', '/Users/rosafilgueira/EPCC/ATI-SE/Humanities/cluster-code/bluclobber/test/fixtures/ALTO/000000218_03_000238.xml', '/Users/rosafilgueira/EPCC/ATI-SE/Humanities/cluster-code/bluclobber/test/fixtures/ALTO/000000218_03_000210.xml', '/Users/rosafilgueira/EPCC/ATI-SE/Humanities/cluster-code/bluclobber/test/fixtures/ALTO/000000218_03_000204.xml', '/Users/rosafilgueira/EPCC/ATI-SE/Humanities/cluster-code/bluclobber/test/fixtures/ALTO/000000218_03_000212.xml', '/Users/rosafilgueira/EPCC/ATI-SE/Humanities/cluster-code/bluclobber/test/fixtures/ALTO/000000218_03_000206.xml', '/Users/rosafilgueira/EPCC/ATI-SE/Humanities/cluster-code/bluclobber/test/fixtures/ALTO/000000218_03_000010.xml', '/Users/rosafilgueira/EPCC/ATI-SE/Humanities/cluster-code/bluclobber/test/fixtures/ALTO/000000218_03_000004.xml', '/Users/rosafilgueira/EPCC/ATI-SE/Humanities/cluster-code/bluclobber/test/fixtures/ALTO/000000218_03_000038.xml', '/Users/rosafilgueira/EPCC/ATI-SE/Humanities/cluster-code/bluclobber/test/fixtures/ALTO/000000218_03_000164.xml', '/Users/rosafilgueira/EPCC/ATI-SE/Humanities/cluster-code/bluclobber/test/fixtures/ALTO/000000218_03_000170.xml', '/Users/rosafilgueira/EPCC/ATI-SE/Humanities/cluster-code/bluclobber/test/fixtures/ALTO/000000218_03_000158.xml', '/Users/rosafilgueira/EPCC/ATI-SE/Humanities/cluster-code/bluclobber/test/fixtures/ALTO/000000218_03_000159.xml', '/Users/rosafilgueira/EPCC/ATI-SE/Humanities/cluster-code/bluclobber/test/fixtures/ALTO/000000218_03_000171.xml', '/Users/rosafilgueira/EPCC/ATI-SE/Humanities/cluster-code/bluclobber/test/fixtures/ALTO/000000218_03_000165.xml', '/Users/rosafilgueira/EPCC/ATI-SE/Humanities/cluster-code/bluclobber/test/fixtures/ALTO/000000218_03_000039.xml', '/Users/rosafilgueira/EPCC/ATI-SE/Humanities/cluster-code/bluclobber/test/fixtures/ALTO/000000218_03_000005.xml', '/Users/rosafilgueira/EPCC/ATI-SE/Humanities/cluster-code/bluclobber/test/fixtures/ALTO/000000218_03_000011.xml', '/Users/rosafilgueira/EPCC/ATI-SE/Humanities/cluster-code/bluclobber/test/fixtures/ALTO/000000218_03_000207.xml', '/Users/rosafilgueira/EPCC/ATI-SE/Humanities/cluster-code/bluclobber/test/fixtures/ALTO/000000218_03_000213.xml', '/Users/rosafilgueira/EPCC/ATI-SE/Humanities/cluster-code/bluclobber/test/fixtures/ALTO/000000218_03_000248.xml', '/Users/rosafilgueira/EPCC/ATI-SE/Humanities/cluster-code/bluclobber/test/fixtures/ALTO/000000218_03_000274.xml', '/Users/rosafilgueira/EPCC/ATI-SE/Humanities/cluster-code/bluclobber/test/fixtures/ALTO/000000218_03_000260.xml', '/Users/rosafilgueira/EPCC/ATI-SE/Humanities/cluster-code/bluclobber/test/fixtures/ALTO/000000218_03_000089.xml', '/Users/rosafilgueira/EPCC/ATI-SE/Humanities/cluster-code/bluclobber/test/fixtures/ALTO/000000218_03_000076.xml', '/Users/rosafilgueira/EPCC/ATI-SE/Humanities/cluster-code/bluclobber/test/fixtures/ALTO/000000218_03_000062.xml', '/Users/rosafilgueira/EPCC/ATI-SE/Humanities/cluster-code/bluclobber/test/fixtures/ALTO/000000218_03_000102.xml', '/Users/rosafilgueira/EPCC/ATI-SE/Humanities/cluster-code/bluclobber/test/fixtures/ALTO/000000218_03_000116.xml', '/Users/rosafilgueira/EPCC/ATI-SE/Humanities/cluster-code/bluclobber/test/fixtures/ALTO/000000218_03_000300.xml', '/Users/rosafilgueira/EPCC/ATI-SE/Humanities/cluster-code/bluclobber/test/fixtures/ALTO/000000218_03_000301.xml', '/Users/rosafilgueira/EPCC/ATI-SE/Humanities/cluster-code/bluclobber/test/fixtures/ALTO/000000218_03_000117.xml', '/Users/rosafilgueira/EPCC/ATI-SE/Humanities/cluster-code/bluclobber/test/fixtures/ALTO/000000218_03_000103.xml', '/Users/rosafilgueira/EPCC/ATI-SE/Humanities/cluster-code/bluclobber/test/fixtures/ALTO/000000218_03_000063.xml', '/Users/rosafilgueira/EPCC/ATI-SE/Humanities/cluster-code/bluclobber/test/fixtures/ALTO/000000218_03_000077.xml', '/Users/rosafilgueira/EPCC/ATI-SE/Humanities/cluster-code/bluclobber/test/fixtures/ALTO/000000218_03_000088.xml', '/Users/rosafilgueira/EPCC/ATI-SE/Humanities/cluster-code/bluclobber/test/fixtures/ALTO/000000218_03_000261.xml', '/Users/rosafilgueira/EPCC/ATI-SE/Humanities/cluster-code/bluclobber/test/fixtures/ALTO/000000218_03_000275.xml', '/Users/rosafilgueira/EPCC/ATI-SE/Humanities/cluster-code/bluclobber/test/fixtures/ALTO/000000218_03_000249.xml', '/Users/rosafilgueira/EPCC/ATI-SE/Humanities/cluster-code/bluclobber/test/fixtures/ALTO/000000218_03_000288.xml', '/Users/rosafilgueira/EPCC/ATI-SE/Humanities/cluster-code/bluclobber/test/fixtures/ALTO/000000218_03_000263.xml', '/Users/rosafilgueira/EPCC/ATI-SE/Humanities/cluster-code/bluclobber/test/fixtures/ALTO/000000218_03_000277.xml', '/Users/rosafilgueira/EPCC/ATI-SE/Humanities/cluster-code/bluclobber/test/fixtures/ALTO/000000218_03_000049.xml', '/Users/rosafilgueira/EPCC/ATI-SE/Humanities/cluster-code/bluclobber/test/fixtures/ALTO/000000218_03_000061.xml', '/Users/rosafilgueira/EPCC/ATI-SE/Humanities/cluster-code/bluclobber/test/fixtures/ALTO/000000218_03_000075.xml', '/Users/rosafilgueira/EPCC/ATI-SE/Humanities/cluster-code/bluclobber/test/fixtures/ALTO/000000218_03_000129.xml', '/Users/rosafilgueira/EPCC/ATI-SE/Humanities/cluster-code/bluclobber/test/fixtures/ALTO/000000218_03_000115.xml', '/Users/rosafilgueira/EPCC/ATI-SE/Humanities/cluster-code/bluclobber/test/fixtures/ALTO/000000218_03_000101.xml', '/Users/rosafilgueira/EPCC/ATI-SE/Humanities/cluster-code/bluclobber/test/fixtures/ALTO/000000218_03_000303.xml', '/Users/rosafilgueira/EPCC/ATI-SE/Humanities/cluster-code/bluclobber/test/fixtures/ALTO/000000218_03_000302.xml', '/Users/rosafilgueira/EPCC/ATI-SE/Humanities/cluster-code/bluclobber/test/fixtures/ALTO/000000218_03_000100.xml', '/Users/rosafilgueira/EPCC/ATI-SE/Humanities/cluster-code/bluclobber/test/fixtures/ALTO/000000218_03_000114.xml', '/Users/rosafilgueira/EPCC/ATI-SE/Humanities/cluster-code/bluclobber/test/fixtures/ALTO/000000218_03_000128.xml', '/Users/rosafilgueira/EPCC/ATI-SE/Humanities/cluster-code/bluclobber/test/fixtures/ALTO/000000218_03_000074.xml', '/Users/rosafilgueira/EPCC/ATI-SE/Humanities/cluster-code/bluclobber/test/fixtures/ALTO/000000218_03_000060.xml', '/Users/rosafilgueira/EPCC/ATI-SE/Humanities/cluster-code/bluclobber/test/fixtures/ALTO/000000218_03_000048.xml', '/Users/rosafilgueira/EPCC/ATI-SE/Humanities/cluster-code/bluclobber/test/fixtures/ALTO/000000218_03_000276.xml', '/Users/rosafilgueira/EPCC/ATI-SE/Humanities/cluster-code/bluclobber/test/fixtures/ALTO/000000218_03_000262.xml', '/Users/rosafilgueira/EPCC/ATI-SE/Humanities/cluster-code/bluclobber/test/fixtures/ALTO/000000218_03_000289.xml', '/Users/rosafilgueira/EPCC/ATI-SE/Humanities/cluster-code/bluclobber/test/fixtures/ALTO/000000218_03_000299.xml', '/Users/rosafilgueira/EPCC/ATI-SE/Humanities/cluster-code/bluclobber/test/fixtures/ALTO/000000218_03_000266.xml', '/Users/rosafilgueira/EPCC/ATI-SE/Humanities/cluster-code/bluclobber/test/fixtures/ALTO/000000218_03_000272.xml', '/Users/rosafilgueira/EPCC/ATI-SE/Humanities/cluster-code/bluclobber/test/fixtures/ALTO/000000218_03_000064.xml', '/Users/rosafilgueira/EPCC/ATI-SE/Humanities/cluster-code/bluclobber/test/fixtures/ALTO/000000218_03_000070.xml', '/Users/rosafilgueira/EPCC/ATI-SE/Humanities/cluster-code/bluclobber/test/fixtures/ALTO/000000218_03_000058.xml', '/Users/rosafilgueira/EPCC/ATI-SE/Humanities/cluster-code/bluclobber/test/fixtures/ALTO/000000218_03_000110.xml', '/Users/rosafilgueira/EPCC/ATI-SE/Humanities/cluster-code/bluclobber/test/fixtures/ALTO/000000218_03_000104.xml', '/Users/rosafilgueira/EPCC/ATI-SE/Humanities/cluster-code/bluclobber/test/fixtures/ALTO/000000218_03_000138.xml', '/Users/rosafilgueira/EPCC/ATI-SE/Humanities/cluster-code/bluclobber/test/fixtures/ALTO/000000218_03_000306.xml', '/Users/rosafilgueira/EPCC/ATI-SE/Humanities/cluster-code/bluclobber/test/fixtures/ALTO/000000218_03_000139.xml', '/Users/rosafilgueira/EPCC/ATI-SE/Humanities/cluster-code/bluclobber/test/fixtures/ALTO/000000218_03_000105.xml', '/Users/rosafilgueira/EPCC/ATI-SE/Humanities/cluster-code/bluclobber/test/fixtures/ALTO/000000218_03_000111.xml', '/Users/rosafilgueira/EPCC/ATI-SE/Humanities/cluster-code/bluclobber/test/fixtures/ALTO/000000218_03_000059.xml', '/Users/rosafilgueira/EPCC/ATI-SE/Humanities/cluster-code/bluclobber/test/fixtures/ALTO/000000218_03_000071.xml', '/Users/rosafilgueira/EPCC/ATI-SE/Humanities/cluster-code/bluclobber/test/fixtures/ALTO/000000218_03_000065.xml', '/Users/rosafilgueira/EPCC/ATI-SE/Humanities/cluster-code/bluclobber/test/fixtures/ALTO/000000218_03_000273.xml', '/Users/rosafilgueira/EPCC/ATI-SE/Humanities/cluster-code/bluclobber/test/fixtures/ALTO/000000218_03_000267.xml', '/Users/rosafilgueira/EPCC/ATI-SE/Humanities/cluster-code/bluclobber/test/fixtures/ALTO/000000218_03_000298.xml', '/Users/rosafilgueira/EPCC/ATI-SE/Humanities/cluster-code/bluclobber/test/fixtures/ALTO/000000218_03_000271.xml', '/Users/rosafilgueira/EPCC/ATI-SE/Humanities/cluster-code/bluclobber/test/fixtures/ALTO/000000218_03_000265.xml', '/Users/rosafilgueira/EPCC/ATI-SE/Humanities/cluster-code/bluclobber/test/fixtures/ALTO/000000218_03_000259.xml', '/Users/rosafilgueira/EPCC/ATI-SE/Humanities/cluster-code/bluclobber/test/fixtures/ALTO/000000218_03_000098.xml', '/Users/rosafilgueira/EPCC/ATI-SE/Humanities/cluster-code/bluclobber/test/fixtures/ALTO/000000218_03_000073.xml', '/Users/rosafilgueira/EPCC/ATI-SE/Humanities/cluster-code/bluclobber/test/fixtures/ALTO/000000218_03_000067.xml', '/Users/rosafilgueira/EPCC/ATI-SE/Humanities/cluster-code/bluclobber/test/fixtures/ALTO/000000218_03_000107.xml', '/Users/rosafilgueira/EPCC/ATI-SE/Humanities/cluster-code/bluclobber/test/fixtures/ALTO/000000218_03_000113.xml', '/Users/rosafilgueira/EPCC/ATI-SE/Humanities/cluster-code/bluclobber/test/fixtures/ALTO/000000218_03_000305.xml', '/Users/rosafilgueira/EPCC/ATI-SE/Humanities/cluster-code/bluclobber/test/fixtures/ALTO/000000218_03_000304.xml', '/Users/rosafilgueira/EPCC/ATI-SE/Humanities/cluster-code/bluclobber/test/fixtures/ALTO/000000218_03_000112.xml', '/Users/rosafilgueira/EPCC/ATI-SE/Humanities/cluster-code/bluclobber/test/fixtures/ALTO/000000218_03_000106.xml', '/Users/rosafilgueira/EPCC/ATI-SE/Humanities/cluster-code/bluclobber/test/fixtures/ALTO/000000218_03_000066.xml', '/Users/rosafilgueira/EPCC/ATI-SE/Humanities/cluster-code/bluclobber/test/fixtures/ALTO/000000218_03_000072.xml', '/Users/rosafilgueira/EPCC/ATI-SE/Humanities/cluster-code/bluclobber/test/fixtures/ALTO/000000218_03_000099.xml', '/Users/rosafilgueira/EPCC/ATI-SE/Humanities/cluster-code/bluclobber/test/fixtures/ALTO/000000218_03_000258.xml', '/Users/rosafilgueira/EPCC/ATI-SE/Humanities/cluster-code/bluclobber/test/fixtures/ALTO/000000218_03_000264.xml', '/Users/rosafilgueira/EPCC/ATI-SE/Humanities/cluster-code/bluclobber/test/fixtures/ALTO/000000218_03_000270.xml']\n"
     ]
    }
   ],
   "source": [
    "data_paths=glob.glob(os.path.join(fixtures,'ALTO/',book_code +'*'))\n",
    "print data_paths"
   ]
  },
  {
   "cell_type": "code",
   "execution_count": 7,
   "metadata": {},
   "outputs": [],
   "source": [
    "metadata=etree.parse(metadata_path)"
   ]
  },
  {
   "cell_type": "code",
   "execution_count": 8,
   "metadata": {},
   "outputs": [
    {
     "data": {
      "text/plain": [
       "<lxml.etree._ElementTree at 0x10dd31cf8>"
      ]
     },
     "execution_count": 8,
     "metadata": {},
     "output_type": "execute_result"
    }
   ],
   "source": [
    "metadata"
   ]
  },
  {
   "cell_type": "code",
   "execution_count": 9,
   "metadata": {},
   "outputs": [],
   "source": [
    "pages=[etree.parse(path) for path in data_paths]"
   ]
  },
  {
   "cell_type": "code",
   "execution_count": 10,
   "metadata": {},
   "outputs": [],
   "source": [
    "page14=pages[15]"
   ]
  },
  {
   "cell_type": "code",
   "execution_count": 11,
   "metadata": {},
   "outputs": [],
   "source": [
    "page_texts=[open(path).read() for path in data_paths]"
   ]
  },
  {
   "cell_type": "code",
   "execution_count": 12,
   "metadata": {},
   "outputs": [
    {
     "name": "stdout",
     "output_type": "stream",
     "text": [
      "<?xml version=\"1.0\" encoding=\"UTF-8\"?>\r\n",
      "<alto xmlns:xsi=\"http://www.w3.org/2001/XMLSchema-instance\" xsi:noNamespaceSchemaLocation=\"http://www.bl.uk/schemas/alto/alto-1-4.xsd\" xmlns:xlink=\"http://www.w3.org/1999/xlink\">\r\n",
      "\t<Description>\r\n",
      "\t\t<MeasurementUnit>mm10</MeasurementUnit>\r\n",
      "\t\t<sourceImageInformation>\r\n",
      "\t\t\t<fileName>//head1/IN/2007-46/A0010888503.3/008055.jp2</fileName>\r\n",
      "\t\t</sourceImageInformation>\r\n",
      "\t\t<OCRProcessing ID=\"OCRPROCESSING_1\">\r\n",
      "\t\t\t<preProcessingStep>\r\n",
      "\t\t\t\t<processingSoftware>\r\n",
      "\t\t\t\t\t<softwareCreator>CCS Content Conversion Specialists GmbH, Germany</softwareCreator>\r\n",
      "\t\t\t\t\t<softwareName>CCS docWORKS</softwareName>\r\n",
      "\t\t\t\t\t<softwareVersion>6.1-0.62</softwareVersion>\r\n",
      "\t\t\t\t</processingSoftware>\r\n",
      "\t\t\t</preProcessingStep>\r\n",
      "\t\t\t<ocrProcessingStep>\r\n",
      "\t\t\t\t<processingSoftware>\r\n",
      "\t\t\t\t\t<softwareCreator>ABBYY (BIT Software), Russia</softwareCreator>\r\n",
      "\t\t\t\t\t<softwareName>Finereader</softwareName>\r\n",
      "\t\t\t\t</processingSoftware>\r\n",
      "\t\t\t</ocrProcessingStep>\r\n",
      "\t\t</OCRProcessing>\r\n",
      "\t</Description>\r\n",
      "\t<Styles>\r\n",
      "\t\t<TextStyle ID=\"TXT_0\" FONTSIZE=\"11\" FONTFAMILY=\"Courier New\"/>\r\n",
      "\t\t<TextStyle ID=\"TXT_1\" FONTSIZE=\"9\" FONTFAMILY=\"Courier New\"/>\r\n",
      "\t\t<ParagraphStyle ID=\"PAR_RIGHT\" ALIGN=\"Right\"/>\r\n",
      "\t\t<ParagraphStyle ID=\"PAR_LEFT\" ALIGN=\"Left\"/>\r\n",
      "\t</Styles>\r\n",
      "\t<Layout>\r\n",
      "\t\t<Page ID=\"P81\" PHYSICAL_IMG_NR=\"81\" HEIGHT=\"1710\" WIDTH=\"1079\" PRINTED_IMG_NR=\"71\" POSITION=\"Right\" ACCURACY=\"74.86\">\r\n",
      "\t\t\t<TopMargin ID=\"P81_TM00001\" HPOS=\"0\" VPOS=\"0\" WIDTH=\"1078\" HEIGHT=\"114\">\r\n",
      "\t\t\t\t<TextBlock ID=\"P81_TB00001\" HPOS=\"874\" VPOS=\"79\" WIDTH=\"31\" HEIGHT=\"27\" STYLEREFS=\"TXT_0 PAR_RIGHT\">\r\n",
      "\t\t\t\t\t<TextLine ID=\"P81_TL00001\" HPOS=\"874\" VPOS=\"79\" WIDTH=\"31\" HEIGHT=\"27\">\r\n",
      "\t\t\t\t\t\t<String ID=\"P81_ST00001\" HPOS=\"874\" VPOS=\"79\" WIDTH=\"31\" HEIGHT=\"27\" CONTENT=\"71\" WC=\"1.00\" CC=\"00\"/>\r\n",
      "\t\t\t\t\t</TextLine>\r\n",
      "\t\t\t\t</TextBlock>\r\n",
      "\t\t\t\t<TextBlock ID=\"P81_TB00002\" HPOS=\"217\" VPOS=\"84\" WIDTH=\"561\" HEIGHT=\"30\" STYLEREFS=\"TXT_1 PAR_LEFT\">\r\n",
      "\t\t\t\t\t<TextLine ID=\"P81_TL00002\" HPOS=\"218\" VPOS=\"85\" WIDTH=\"560\" HEIGHT=\"29\">\r\n",
      "\t\t\t\t\t\t<String ID=\"P81_ST00002\" HPOS=\"218\" VPOS=\"85\" WIDTH=\"143\" HEIGHT=\"22\" CONTENT=\"LIGHTLY\" WC=\"0.60\" CC=\"1863042\"/>\r\n",
      "\t\t\t\t\t\t<SP ID=\"P81_SP00001\" HPOS=\"361\" VPOS=\"107\" WIDTH=\"23\"/>\r\n",
      "\t\t\t\t\t\t<String ID=\"P81_ST00003\" HPOS=\"384\" VPOS=\"86\" WIDTH=\"127\" HEIGHT=\"28\" CONTENT=\"LOVING,\" WC=\"0.47\" CC=\"5075961\"/>\r\n",
      "\t\t\t\t\t\t<SP ID=\"P81_SP00002\" HPOS=\"511\" VPOS=\"114\" WIDTH=\"24\"/>\r\n",
      "\t\t\t\t\t\t<String ID=\"P81_ST00004\" HPOS=\"535\" VPOS=\"86\" WIDTH=\"140\" HEIGHT=\"22\" CONTENT=\"LIGHTLY\" WC=\"0.62\" CC=\"6066005\"/>\r\n",
      "\t\t\t\t\t\t<SP ID=\"P81_SP00003\" HPOS=\"675\" VPOS=\"114\" WIDTH=\"24\"/>\r\n",
      "\t\t\t\t\t\t<String ID=\"P81_ST00005\" HPOS=\"699\" VPOS=\"86\" WIDTH=\"79\" HEIGHT=\"22\" CONTENT=\"LOST.\" WC=\"0.67\" CC=\"60620\"/>\r\n",
      "\t\t\t\t\t</TextLine>\r\n",
      "\t\t\t\t</TextBlock>\r\n",
      "\t\t\t</TopMargin>\r\n",
      "\t\t\t<LeftMargin ID=\"P81_LM00001\" HPOS=\"0\" VPOS=\"108\" WIDTH=\"84\" HEIGHT=\"1432\"/>\r\n",
      "\t\t\t<RightMargin ID=\"P81_RM00001\" HPOS=\"910\" VPOS=\"108\" WIDTH=\"168\" HEIGHT=\"1432\"/>\r\n",
      "\t\t\t<BottomMargin ID=\"P81_BM00001\" HPOS=\"0\" VPOS=\"1540\" WIDTH=\"1078\" HEIGHT=\"170\"/>\r\n",
      "\t\t\t<PrintSpace ID=\"P81_PS00001\" HPOS=\"84\" VPOS=\"108\" WIDTH=\"826\" HEIGHT=\"1432\">\r\n",
      "\t\t\t\t<TextBlock ID=\"P81_TB00003\" HPOS=\"84\" VPOS=\"160\" WIDTH=\"826\" HEIGHT=\"1380\" STYLEREFS=\"TXT_1 PAR_LEFT\">\r\n",
      "\t\t\t\t\t<TextLine ID=\"P81_TL00003\" HPOS=\"93\" VPOS=\"161\" WIDTH=\"816\" HEIGHT=\"44\">\r\n",
      "\t\t\t\t\t\t<String ID=\"P81_ST00006\" HPOS=\"93\" VPOS=\"165\" WIDTH=\"87\" HEIGHT=\"37\" CONTENT=\"apart\" WC=\"0.92\" CC=\"00012\"/>\r\n",
      "\t\t\t\t\t\t<SP ID=\"P81_SP00004\" HPOS=\"180\" VPOS=\"202\" WIDTH=\"16\"/>\r\n",
      "\t\t\t\t\t\t<String ID=\"P81_ST00007\" HPOS=\"196\" VPOS=\"161\" WIDTH=\"78\" HEIGHT=\"32\" CONTENT=\"from\" WC=\"0.97\" CC=\"0000\"/>\r\n",
      "\t\t\t\t\t\t<SP ID=\"P81_SP00005\" HPOS=\"274\" VPOS=\"202\" WIDTH=\"26\"/>\r\n",
      "\t\t\t\t\t\t<String ID=\"P81_ST00008\" HPOS=\"300\" VPOS=\"161\" WIDTH=\"51\" HEIGHT=\"32\" CONTENT=\"the\" WC=\"0.67\" CC=\"270\"/>\r\n",
      "\t\t\t\t\t\t<SP ID=\"P81_SP00006\" HPOS=\"351\" VPOS=\"202\" WIDTH=\"27\"/>\r\n",
      "\t\t\t\t\t\t<String ID=\"P81_ST00009\" HPOS=\"378\" VPOS=\"163\" WIDTH=\"140\" HEIGHT=\"42\" CONTENT=\"ordinary\" WC=\"0.69\" CC=\"06055060\"/>\r\n",
      "\t\t\t\t\t\t<SP ID=\"P81_SP00007\" HPOS=\"518\" VPOS=\"205\" WIDTH=\"15\"/>\r\n",
      "\t\t\t\t\t\t<String ID=\"P81_ST00010\" HPOS=\"533\" VPOS=\"162\" WIDTH=\"104\" HEIGHT=\"40\" CONTENT=\"world,\" WC=\"0.65\" CC=\"906400\"/>\r\n",
      "\t\t\t\t\t\t<SP ID=\"P81_SP00008\" HPOS=\"637\" VPOS=\"205\" WIDTH=\"29\"/>\r\n",
      "\t\t\t\t\t\t<String ID=\"P81_ST00011\" HPOS=\"666\" VPOS=\"174\" WIDTH=\"33\" HEIGHT=\"21\" CONTENT=\"so\" WC=\"0.67\" CC=\"50\"/>\r\n",
      "\t\t\t\t\t\t<SP ID=\"P81_SP00009\" HPOS=\"699\" VPOS=\"205\" WIDTH=\"26\"/>\r\n",
      "\t\t\t\t\t\t<String ID=\"P81_ST00012\" HPOS=\"725\" VPOS=\"162\" WIDTH=\"184\" HEIGHT=\"41\" CONTENT=\"exclusively\" WC=\"0.78\" CC=\"00016640040\"/>\r\n",
      "\t\t\t\t\t</TextLine>\r\n",
      "\t\t\t\t\t<TextLine ID=\"P81_TL00004\" HPOS=\"90\" VPOS=\"220\" WIDTH=\"819\" HEIGHT=\"44\">\r\n",
      "\t\t\t\t\t\t<String ID=\"P81_ST00013\" HPOS=\"90\" VPOS=\"220\" WIDTH=\"124\" HEIGHT=\"33\" CONTENT=\"divided\" WC=\"0.90\" CC=\"0401000\"/>\r\n",
      "\t\t\t\t\t\t<SP ID=\"P81_SP00010\" HPOS=\"214\" VPOS=\"253\" WIDTH=\"26\"/>\r\n",
      "\t\t\t\t\t\t<String ID=\"P81_ST00014\" HPOS=\"240\" VPOS=\"222\" WIDTH=\"141\" HEIGHT=\"33\" CONTENT=\"between\" WC=\"0.82\" CC=\"7000004\"/>\r\n",
      "\t\t\t\t\t\t<SP ID=\"P81_SP00011\" HPOS=\"381\" VPOS=\"255\" WIDTH=\"35\"/>\r\n",
      "\t\t\t\t\t\t<String ID=\"P81_ST00015\" HPOS=\"416\" VPOS=\"223\" WIDTH=\"211\" HEIGHT=\"32\" CONTENT=\"self-devotion\" WC=\"0.79\" CC=\"6110400040205\"/>\r\n",
      "\t\t\t\t\t\t<SP ID=\"P81_SP00012\" HPOS=\"627\" VPOS=\"255\" WIDTH=\"31\"/>\r\n",
      "\t\t\t\t\t\t<String ID=\"P81_ST00016\" HPOS=\"658\" VPOS=\"223\" WIDTH=\"59\" HEIGHT=\"32\" CONTENT=\"and\" WC=\"0.78\" CC=\"060\"/>\r\n",
      "\t\t\t\t\t\t<SP ID=\"P81_SP00013\" HPOS=\"717\" VPOS=\"255\" WIDTH=\"22\"/>\r\n",
      "\t\t\t\t\t\t<String ID=\"P81_ST00017\" HPOS=\"739\" VPOS=\"235\" WIDTH=\"55\" HEIGHT=\"20\" CONTENT=\"one\" WC=\"0.74\" CC=\"070\"/>\r\n",
      "\t\t\t\t\t\t<SP ID=\"P81_SP00014\" HPOS=\"794\" VPOS=\"255\" WIDTH=\"31\"/>\r\n",
      "\t\t\t\t\t\t<String ID=\"P81_ST00018\" HPOS=\"825\" VPOS=\"222\" WIDTH=\"84\" HEIGHT=\"42\" CONTENT=\"grief,\" WC=\"0.84\" CC=\"061001\"/>\r\n",
      "\t\t\t\t\t</TextLine>\r\n",
      "\t\t\t\t\t<TextLine ID=\"P81_TL00005\" HPOS=\"91\" VPOS=\"282\" WIDTH=\"819\" HEIGHT=\"44\">\r\n",
      "\t\t\t\t\t\t<String ID=\"P81_ST00019\" HPOS=\"91\" VPOS=\"282\" WIDTH=\"68\" HEIGHT=\"33\" CONTENT=\"that\" WC=\"0.81\" CC=\"0700\"/>\r\n",
      "\t\t\t\t\t\t<SP ID=\"P81_SP00015\" HPOS=\"159\" VPOS=\"315\" WIDTH=\"26\"/>\r\n",
      "\t\t\t\t\t\t<String ID=\"P81_ST00020\" HPOS=\"185\" VPOS=\"288\" WIDTH=\"33\" HEIGHT=\"27\" CONTENT=\"to\" WC=\"0.91\" CC=\"01\"/>\r\n",
      "\t\t\t\t\t\t<SP ID=\"P81_SP00016\" HPOS=\"218\" VPOS=\"315\" WIDTH=\"24\"/>\r\n",
      "\t\t\t\t\t\t<String ID=\"P81_ST00021\" HPOS=\"242\" VPOS=\"284\" WIDTH=\"53\" HEIGHT=\"32\" CONTENT=\"the\" WC=\"0.75\" CC=\"070\"/>\r\n",
      "\t\t\t\t\t\t<SP ID=\"P81_SP00017\" HPOS=\"295\" VPOS=\"316\" WIDTH=\"22\"/>\r\n",
      "\t\t\t\t\t\t<String ID=\"P81_ST00022\" HPOS=\"317\" VPOS=\"285\" WIDTH=\"200\" HEIGHT=\"31\" CONTENT=\"unconscious\" WC=\"0.71\" CC=\"55004400261\"/>\r\n",
      "\t\t\t\t\t\t<SP ID=\"P81_SP00018\" HPOS=\"517\" VPOS=\"316\" WIDTH=\"24\"/>\r\n",
      "\t\t\t\t\t\t<String ID=\"P81_ST00023\" HPOS=\"541\" VPOS=\"285\" WIDTH=\"151\" HEIGHT=\"41\" CONTENT=\"grandeur\" WC=\"0.70\" CC=\"07060062\"/>\r\n",
      "\t\t\t\t\t\t<SP ID=\"P81_SP00019\" HPOS=\"692\" VPOS=\"326\" WIDTH=\"24\"/>\r\n",
      "\t\t\t\t\t\t<String ID=\"P81_ST00024\" HPOS=\"716\" VPOS=\"284\" WIDTH=\"33\" HEIGHT=\"32\" CONTENT=\"of\" WC=\"0.44\" CC=\"28\"/>\r\n",
      "\t\t\t\t\t\t<SP ID=\"P81_SP00020\" HPOS=\"749\" VPOS=\"326\" WIDTH=\"18\"/>\r\n",
      "\t\t\t\t\t\t<String ID=\"P81_ST00025\" HPOS=\"767\" VPOS=\"284\" WIDTH=\"55\" HEIGHT=\"31\" CONTENT=\"her\" WC=\"0.57\" CC=\"606\"/>\r\n",
      "\t\t\t\t\t\t<SP ID=\"P81_SP00021\" HPOS=\"822\" VPOS=\"326\" WIDTH=\"23\"/>\r\n",
      "\t\t\t\t\t\t<String ID=\"P81_ST00026\" HPOS=\"845\" VPOS=\"283\" WIDTH=\"65\" HEIGHT=\"32\" CONTENT=\"soul\" WC=\"0.54\" CC=\"3284\"/>\r\n",
      "\t\t\t\t\t</TextLine>\r\n",
      "\t\t\t\t\t<TextLine ID=\"P81_TL00006\" HPOS=\"92\" VPOS=\"344\" WIDTH=\"818\" HEIGHT=\"42\">\r\n",
      "\t\t\t\t\t\t<String ID=\"P81_ST00027\" HPOS=\"92\" VPOS=\"344\" WIDTH=\"40\" HEIGHT=\"31\" CONTENT=\"all\" WC=\"1.00\" CC=\"000\"/>\r\n",
      "\t\t\t\t\t\t<SP ID=\"P81_SP00022\" HPOS=\"132\" VPOS=\"375\" WIDTH=\"25\"/>\r\n",
      "\t\t\t\t\t\t<String ID=\"P81_ST00028\" HPOS=\"157\" VPOS=\"344\" WIDTH=\"106\" HEIGHT=\"42\" CONTENT=\"things\" WC=\"0.44\" CC=\"675607\"/>\r\n",
      "\t\t\t\t\t\t<SP ID=\"P81_SP00023\" HPOS=\"263\" VPOS=\"386\" WIDTH=\"16\"/>\r\n",
      "\t\t\t\t\t\t<String ID=\"P81_ST00029\" HPOS=\"279\" VPOS=\"346\" WIDTH=\"99\" HEIGHT=\"40\" CONTENT=\"grand\" WC=\"0.78\" CC=\"06050\"/>\r\n",
      "\t\t\t\t\t\t<SP ID=\"P81_SP00024\" HPOS=\"378\" VPOS=\"386\" WIDTH=\"23\"/>\r\n",
      "\t\t\t\t\t\t<String ID=\"P81_ST00030\" HPOS=\"401\" VPOS=\"357\" WIDTH=\"85\" HEIGHT=\"20\" CONTENT=\"came\" WC=\"1.00\" CC=\"0000\"/>\r\n",
      "\t\t\t\t\t\t<SP ID=\"P81_SP00025\" HPOS=\"486\" VPOS=\"386\" WIDTH=\"23\"/>\r\n",
      "\t\t\t\t\t\t<String ID=\"P81_ST00031\" HPOS=\"509\" VPOS=\"345\" WIDTH=\"98\" HEIGHT=\"32\" CONTENT=\"home.\" WC=\"0.85\" CC=\"70000\"/>\r\n",
      "\t\t\t\t\t\t<SP ID=\"P81_SP00026\" HPOS=\"607\" VPOS=\"386\" WIDTH=\"48\"/>\r\n",
      "\t\t\t\t\t\t<String ID=\"P81_ST00032\" HPOS=\"655\" VPOS=\"346\" WIDTH=\"93\" HEIGHT=\"31\" CONTENT=\"From\" WC=\"0.70\" CC=\"1018\"/>\r\n",
      "\t\t\t\t\t\t<SP ID=\"P81_SP00027\" HPOS=\"748\" VPOS=\"386\" WIDTH=\"24\"/>\r\n",
      "\t\t\t\t\t\t<String ID=\"P81_ST00033\" HPOS=\"772\" VPOS=\"345\" WIDTH=\"51\" HEIGHT=\"32\" CONTENT=\"the\" WC=\"0.69\" CC=\"071\"/>\r\n",
      "\t\t\t\t\t\t<SP ID=\"P81_SP00028\" HPOS=\"823\" VPOS=\"386\" WIDTH=\"17\"/>\r\n",
      "\t\t\t\t\t\t<String ID=\"P81_ST00034\" HPOS=\"840\" VPOS=\"356\" WIDTH=\"70\" HEIGHT=\"20\" CONTENT=\"con\" SUBS_TYPE=\"HypPart1\" SUBS_CONTENT=\"constant\" WC=\"0.90\" CC=\"0030\"/>\r\n",
      "\t\t\t\t\t\t<HYP CONTENT=\"-\"/>\r\n",
      "\t\t\t\t\t</TextLine>\r\n",
      "\t\t\t\t\t<TextLine ID=\"P81_TL00007\" HPOS=\"92\" VPOS=\"406\" WIDTH=\"817\" HEIGHT=\"42\">\r\n",
      "\t\t\t\t\t\t<String ID=\"P81_ST00035\" HPOS=\"92\" VPOS=\"410\" WIDTH=\"83\" HEIGHT=\"27\" CONTENT=\"stant\" SUBS_TYPE=\"HypPart2\" SUBS_CONTENT=\"constant\" WC=\"0.56\" CC=\"55055\"/>\r\n",
      "\t\t\t\t\t\t<SP ID=\"P81_SP00029\" HPOS=\"175\" VPOS=\"437\" WIDTH=\"27\"/>\r\n",
      "\t\t\t\t\t\t<String ID=\"P81_ST00036\" HPOS=\"202\" VPOS=\"406\" WIDTH=\"84\" HEIGHT=\"32\" CONTENT=\"habit\" WC=\"0.68\" CC=\"72060\"/>\r\n",
      "\t\t\t\t\t\t<SP ID=\"P81_SP00030\" HPOS=\"286\" VPOS=\"438\" WIDTH=\"16\"/>\r\n",
      "\t\t\t\t\t\t<String ID=\"P81_ST00037\" HPOS=\"302\" VPOS=\"406\" WIDTH=\"34\" HEIGHT=\"32\" CONTENT=\"of\" WC=\"0.90\" CC=\"20\"/>\r\n",
      "\t\t\t\t\t\t<SP ID=\"P81_SP00031\" HPOS=\"336\" VPOS=\"438\" WIDTH=\"17\"/>\r\n",
      "\t\t\t\t\t\t<String ID=\"P81_ST00038\" HPOS=\"353\" VPOS=\"407\" WIDTH=\"176\" HEIGHT=\"40\" CONTENT=\"measuring\" WC=\"0.55\" CC=\"300664558\"/>\r\n",
      "\t\t\t\t\t\t<SP ID=\"P81_SP00032\" HPOS=\"529\" VPOS=\"447\" WIDTH=\"15\"/>\r\n",
      "\t\t\t\t\t\t<String ID=\"P81_ST00039\" HPOS=\"544\" VPOS=\"407\" WIDTH=\"103\" HEIGHT=\"41\" CONTENT=\"things\" WC=\"0.68\" CC=\"072701\"/>\r\n",
      "\t\t\t\t\t\t<SP ID=\"P81_SP00033\" HPOS=\"647\" VPOS=\"448\" WIDTH=\"23\"/>\r\n",
      "\t\t\t\t\t\t<String ID=\"P81_ST00040\" HPOS=\"670\" VPOS=\"407\" WIDTH=\"41\" HEIGHT=\"40\" CONTENT=\"by\" WC=\"1.00\" CC=\"00\"/>\r\n",
      "\t\t\t\t\t\t<SP ID=\"P81_SP00034\" HPOS=\"711\" VPOS=\"448\" WIDTH=\"15\"/>\r\n",
      "\t\t\t\t\t\t<String ID=\"P81_ST00041\" HPOS=\"726\" VPOS=\"418\" WIDTH=\"39\" HEIGHT=\"20\" CONTENT=\"an\" WC=\"0.63\" CC=\"07\"/>\r\n",
      "\t\t\t\t\t\t<SP ID=\"P81_SP00035\" HPOS=\"765\" VPOS=\"448\" WIDTH=\"24\"/>\r\n",
      "\t\t\t\t\t\t<String ID=\"P81_ST00042\" HPOS=\"789\" VPOS=\"407\" WIDTH=\"120\" HEIGHT=\"31\" CONTENT=\"Infinite\" WC=\"0.69\" CC=\"20007616\"/>\r\n",
      "\t\t\t\t\t</TextLine>\r\n",
      "\t\t\t\t\t<TextLine ID=\"P81_TL00008\" HPOS=\"93\" VPOS=\"466\" WIDTH=\"817\" HEIGHT=\"42\">\r\n",
      "\t\t\t\t\t\t<String ID=\"P81_ST00043\" HPOS=\"93\" VPOS=\"466\" WIDTH=\"155\" HEIGHT=\"41\" CONTENT=\"standard,\" WC=\"0.88\" CC=\"400100400\"/>\r\n",
      "\t\t\t\t\t\t<SP ID=\"P81_SP00036\" HPOS=\"248\" VPOS=\"507\" WIDTH=\"19\"/>\r\n",
      "\t\t\t\t\t\t<String ID=\"P81_ST00044\" HPOS=\"267\" VPOS=\"467\" WIDTH=\"55\" HEIGHT=\"32\" CONTENT=\"she\" WC=\"0.57\" CC=\"570\"/>\r\n",
      "\t\t\t\t\t\t<SP ID=\"P81_SP00037\" HPOS=\"322\" VPOS=\"507\" WIDTH=\"22\"/>\r\n",
      "\t\t\t\t\t\t<String ID=\"P81_ST00045\" HPOS=\"344\" VPOS=\"467\" WIDTH=\"61\" HEIGHT=\"32\" CONTENT=\"had\" WC=\"0.75\" CC=\"700\"/>\r\n",
      "\t\t\t\t\t\t<SP ID=\"P81_SP00038\" HPOS=\"405\" VPOS=\"507\" WIDTH=\"16\"/>\r\n",
      "\t\t\t\t\t\t<String ID=\"P81_ST00046\" HPOS=\"421\" VPOS=\"478\" WIDTH=\"107\" HEIGHT=\"30\" CONTENT=\"grown\" WC=\"0.98\" CC=\"00100\"/>\r\n",
      "\t\t\t\t\t\t<SP ID=\"P81_SP00039\" HPOS=\"528\" VPOS=\"508\" WIDTH=\"16\"/>\r\n",
      "\t\t\t\t\t\t<String ID=\"P81_ST00047\" HPOS=\"544\" VPOS=\"472\" WIDTH=\"31\" HEIGHT=\"27\" CONTENT=\"to\" WC=\"0.98\" CC=\"00\"/>\r\n",
      "\t\t\t\t\t\t<SP ID=\"P81_SP00040\" HPOS=\"575\" VPOS=\"508\" WIDTH=\"16\"/>\r\n",
      "\t\t\t\t\t\t<String ID=\"P81_ST00048\" HPOS=\"591\" VPOS=\"467\" WIDTH=\"37\" HEIGHT=\"32\" CONTENT=\"be\" WC=\"0.79\" CC=\"40\"/>\r\n",
      "\t\t\t\t\t\t<SP ID=\"P81_SP00041\" HPOS=\"628\" VPOS=\"508\" WIDTH=\"17\"/>\r\n",
      "\t\t\t\t\t\t<String ID=\"P81_ST00049\" HPOS=\"645\" VPOS=\"467\" WIDTH=\"114\" HEIGHT=\"32\" CONTENT=\"lenient\" WC=\"0.79\" CC=\"0070070\"/>\r\n",
      "\t\t\t\t\t\t<SP ID=\"P81_SP00042\" HPOS=\"759\" VPOS=\"508\" WIDTH=\"15\"/>\r\n",
      "\t\t\t\t\t\t<String ID=\"P81_ST00050\" HPOS=\"774\" VPOS=\"472\" WIDTH=\"32\" HEIGHT=\"27\" CONTENT=\"to\" WC=\"0.99\" CC=\"00\"/>\r\n",
      "\t\t\t\t\t\t<SP ID=\"P81_SP00043\" HPOS=\"806\" VPOS=\"508\" WIDTH=\"14\"/>\r\n",
      "\t\t\t\t\t\t<String ID=\"P81_ST00051\" HPOS=\"820\" VPOS=\"467\" WIDTH=\"90\" HEIGHT=\"32\" CONTENT=\"much\" WC=\"0.67\" CC=\"0507\"/>\r\n",
      "\t\t\t\t\t</TextLine>\r\n",
      "\t\t\t\t\t<TextLine ID=\"P81_TL00009\" HPOS=\"93\" VPOS=\"526\" WIDTH=\"817\" HEIGHT=\"43\">\r\n",
      "\t\t\t\t\t\t<String ID=\"P81_ST00052\" HPOS=\"93\" VPOS=\"526\" WIDTH=\"69\" HEIGHT=\"32\" CONTENT=\"that\" WC=\"0.58\" CC=\"7701\"/>\r\n",
      "\t\t\t\t\t\t<SP ID=\"P81_SP00044\" HPOS=\"162\" VPOS=\"558\" WIDTH=\"25\"/>\r\n",
      "\t\t\t\t\t\t<String ID=\"P81_ST00053\" HPOS=\"187\" VPOS=\"527\" WIDTH=\"113\" HEIGHT=\"31\" CONTENT=\"shocks\" WC=\"0.72\" CC=\"470004\"/>\r\n",
      "\t\t\t\t\t\t<SP ID=\"P81_SP00045\" HPOS=\"300\" VPOS=\"558\" WIDTH=\"24\"/>\r\n",
      "\t\t\t\t\t\t<String ID=\"P81_ST00054\" HPOS=\"324\" VPOS=\"527\" WIDTH=\"53\" HEIGHT=\"31\" CONTENT=\"the\" WC=\"0.54\" CC=\"670\"/>\r\n",
      "\t\t\t\t\t\t<SP ID=\"P81_SP00046\" HPOS=\"377\" VPOS=\"558\" WIDTH=\"21\"/>\r\n",
      "\t\t\t\t\t\t<String ID=\"P81_ST00055\" HPOS=\"398\" VPOS=\"528\" WIDTH=\"106\" HEIGHT=\"39\" CONTENT=\"world,\" WC=\"0.89\" CC=\"000032\"/>\r\n",
      "\t\t\t\t\t\t<SP ID=\"P81_SP00047\" HPOS=\"504\" VPOS=\"567\" WIDTH=\"17\"/>\r\n",
      "\t\t\t\t\t\t<String ID=\"P81_ST00056\" HPOS=\"521\" VPOS=\"528\" WIDTH=\"60\" HEIGHT=\"30\" CONTENT=\"and\" WC=\"0.84\" CC=\"040\"/>\r\n",
      "\t\t\t\t\t\t<SP ID=\"P81_SP00048\" HPOS=\"581\" VPOS=\"567\" WIDTH=\"23\"/>\r\n",
      "\t\t\t\t\t\t<String ID=\"P81_ST00057\" HPOS=\"604\" VPOS=\"532\" WIDTH=\"31\" HEIGHT=\"27\" CONTENT=\"to\" WC=\"0.83\" CC=\"30\"/>\r\n",
      "\t\t\t\t\t\t<SP ID=\"P81_SP00049\" HPOS=\"635\" VPOS=\"567\" WIDTH=\"24\"/>\r\n",
      "\t\t\t\t\t\t<String ID=\"P81_ST00058\" HPOS=\"659\" VPOS=\"528\" WIDTH=\"37\" HEIGHT=\"31\" CONTENT=\"be\" WC=\"0.64\" CC=\"70\"/>\r\n",
      "\t\t\t\t\t\t<SP ID=\"P81_SP00050\" HPOS=\"696\" VPOS=\"567\" WIDTH=\"18\"/>\r\n",
      "\t\t\t\t\t\t<String ID=\"P81_ST00059\" HPOS=\"714\" VPOS=\"528\" WIDTH=\"70\" HEIGHT=\"41\" CONTENT=\"only\" WC=\"0.76\" CC=\"1700\"/>\r\n",
      "\t\t\t\t\t\t<SP ID=\"P81_SP00051\" HPOS=\"784\" VPOS=\"569\" WIDTH=\"23\"/>\r\n",
      "\t\t\t\t\t\t<String ID=\"P81_ST00060\" HPOS=\"807\" VPOS=\"539\" WIDTH=\"103\" HEIGHT=\"20\" CONTENT=\"severe\" WC=\"0.77\" CC=\"304040\"/>\r\n",
      "\t\t\t\t\t</TextLine>\r\n",
      "\t\t\t\t\t<TextLine ID=\"P81_TL00010\" HPOS=\"93\" VPOS=\"588\" WIDTH=\"816\" HEIGHT=\"32\">\r\n",
      "\t\t\t\t\t\t<String ID=\"P81_ST00061\" HPOS=\"93\" VPOS=\"593\" WIDTH=\"32\" HEIGHT=\"26\" CONTENT=\"to\" WC=\"0.89\" CC=\"02\"/>\r\n",
      "\t\t\t\t\t\t<SP ID=\"P81_SP00052\" HPOS=\"125\" VPOS=\"619\" WIDTH=\"16\"/>\r\n",
      "\t\t\t\t\t\t<String ID=\"P81_ST00062\" HPOS=\"141\" VPOS=\"588\" WIDTH=\"75\" HEIGHT=\"31\" CONTENT=\"such\" WC=\"0.64\" CC=\"0607\"/>\r\n",
      "\t\t\t\t\t\t<SP ID=\"P81_SP00053\" HPOS=\"216\" VPOS=\"619\" WIDTH=\"12\"/>\r\n",
      "\t\t\t\t\t\t<String ID=\"P81_ST00063\" HPOS=\"228\" VPOS=\"588\" WIDTH=\"191\" HEIGHT=\"32\" CONTENT=\"derelictions\" WC=\"0.82\" CC=\"000005003073\"/>\r\n",
      "\t\t\t\t\t\t<SP ID=\"P81_SP00054\" HPOS=\"419\" VPOS=\"620\" WIDTH=\"16\"/>\r\n",
      "\t\t\t\t\t\t<String ID=\"P81_ST00064\" HPOS=\"435\" VPOS=\"599\" WIDTH=\"33\" HEIGHT=\"20\" CONTENT=\"as\" WC=\"0.78\" CC=\"04\"/>\r\n",
      "\t\t\t\t\t\t<SP ID=\"P81_SP00055\" HPOS=\"468\" VPOS=\"620\" WIDTH=\"16\"/>\r\n",
      "\t\t\t\t\t\t<String ID=\"P81_ST00065\" HPOS=\"484\" VPOS=\"588\" WIDTH=\"22\" HEIGHT=\"31\" CONTENT=\"it\" WC=\"0.68\" CC=\"14\"/>\r\n",
      "\t\t\t\t\t\t<SP ID=\"P81_SP00056\" HPOS=\"506\" VPOS=\"620\" WIDTH=\"16\"/>\r\n",
      "\t\t\t\t\t\t<String ID=\"P81_ST00066\" HPOS=\"522\" VPOS=\"588\" WIDTH=\"88\" HEIGHT=\"32\" CONTENT=\"takes\" WC=\"0.83\" CC=\"21004\"/>\r\n",
      "\t\t\t\t\t\t<SP ID=\"P81_SP00057\" HPOS=\"610\" VPOS=\"620\" WIDTH=\"16\"/>\r\n",
      "\t\t\t\t\t\t<String ID=\"P81_ST00067\" HPOS=\"626\" VPOS=\"593\" WIDTH=\"54\" HEIGHT=\"27\" CONTENT=\"not\" WC=\"0.66\" CC=\"504\"/>\r\n",
      "\t\t\t\t\t\t<SP ID=\"P81_SP00058\" HPOS=\"680\" VPOS=\"620\" WIDTH=\"15\"/>\r\n",
      "\t\t\t\t\t\t<String ID=\"P81_ST00068\" HPOS=\"695\" VPOS=\"589\" WIDTH=\"61\" HEIGHT=\"31\" CONTENT=\"into\" WC=\"0.70\" CC=\"1450\"/>\r\n",
      "\t\t\t\t\t\t<SP ID=\"P81_SP00059\" HPOS=\"756\" VPOS=\"620\" WIDTH=\"16\"/>\r\n",
      "\t\t\t\t\t\t<String ID=\"P81_ST00069\" HPOS=\"772\" VPOS=\"593\" WIDTH=\"137\" HEIGHT=\"27\" CONTENT=\"account.\" WC=\"0.82\" CC=\"00014501\"/>\r\n",
      "\t\t\t\t\t</TextLine>\r\n",
      "\t\t\t\t\t<TextLine ID=\"P81_TL00011\" HPOS=\"94\" VPOS=\"651\" WIDTH=\"816\" HEIGHT=\"41\">\r\n",
      "\t\t\t\t\t\t<String ID=\"P81_ST00070\" HPOS=\"94\" VPOS=\"652\" WIDTH=\"46\" HEIGHT=\"31\" CONTENT=\"To\" WC=\"0.92\" CC=\"01\"/>\r\n",
      "\t\t\t\t\t\t<SP ID=\"P81_SP00060\" HPOS=\"140\" VPOS=\"683\" WIDTH=\"31\"/>\r\n",
      "\t\t\t\t\t\t<String ID=\"P81_ST00071\" HPOS=\"171\" VPOS=\"652\" WIDTH=\"61\" HEIGHT=\"39\" CONTENT=\"her,\" WC=\"0.68\" CC=\"6060\"/>\r\n",
      "\t\t\t\t\t\t<SP ID=\"P81_SP00061\" HPOS=\"232\" VPOS=\"691\" WIDTH=\"34\"/>\r\n",
      "\t\t\t\t\t\t<String ID=\"P81_ST00072\" HPOS=\"266\" VPOS=\"651\" WIDTH=\"110\" HEIGHT=\"32\" CONTENT=\"Berthe\" WC=\"0.67\" CC=\"600570\"/>\r\n",
      "\t\t\t\t\t\t<SP ID=\"P81_SP00062\" HPOS=\"376\" VPOS=\"691\" WIDTH=\"32\"/>\r\n",
      "\t\t\t\t\t\t<String ID=\"P81_ST00073\" HPOS=\"408\" VPOS=\"651\" WIDTH=\"37\" HEIGHT=\"32\" CONTENT=\"de\" WC=\"0.50\" CC=\"90\"/>\r\n",
      "\t\t\t\t\t\t<SP ID=\"P81_SP00063\" HPOS=\"445\" VPOS=\"691\" WIDTH=\"31\"/>\r\n",
      "\t\t\t\t\t\t<String ID=\"P81_ST00074\" HPOS=\"476\" VPOS=\"651\" WIDTH=\"167\" HEIGHT=\"41\" CONTENT=\"Mottefort,\" WC=\"0.88\" CC=\"0000000631\"/>\r\n",
      "\t\t\t\t\t\t<SP ID=\"P81_SP00064\" HPOS=\"643\" VPOS=\"692\" WIDTH=\"32\"/>\r\n",
      "\t\t\t\t\t\t<String ID=\"P81_ST00075\" HPOS=\"675\" VPOS=\"652\" WIDTH=\"68\" HEIGHT=\"31\" CONTENT=\"who\" WC=\"0.76\" CC=\"070\"/>\r\n",
      "\t\t\t\t\t\t<SP ID=\"P81_SP00065\" HPOS=\"743\" VPOS=\"692\" WIDTH=\"30\"/>\r\n",
      "\t\t\t\t\t\t<String ID=\"P81_ST00076\" HPOS=\"773\" VPOS=\"652\" WIDTH=\"60\" HEIGHT=\"31\" CONTENT=\"had\" WC=\"0.76\" CC=\"700\"/>\r\n",
      "\t\t\t\t\t\t<SP ID=\"P81_SP00066\" HPOS=\"833\" VPOS=\"692\" WIDTH=\"31\"/>\r\n",
      "\t\t\t\t\t\t<String ID=\"P81_ST00077\" HPOS=\"864\" VPOS=\"664\" WIDTH=\"46\" HEIGHT=\"19\" CONTENT=\"re\" SUBS_TYPE=\"HypPart1\" SUBS_CONTENT=\"renounced\" WC=\"0.87\" CC=\"210\"/>\r\n",
      "\t\t\t\t\t\t<HYP CONTENT=\"-\"/>\r\n",
      "\t\t\t\t\t</TextLine>\r\n",
      "\t\t\t\t\t<TextLine ID=\"P81_TL00012\" HPOS=\"93\" VPOS=\"712\" WIDTH=\"816\" HEIGHT=\"32\">\r\n",
      "\t\t\t\t\t\t<String ID=\"P81_ST00078\" HPOS=\"93\" VPOS=\"713\" WIDTH=\"141\" HEIGHT=\"31\" CONTENT=\"nounced\" SUBS_TYPE=\"HypPart2\" SUBS_CONTENT=\"renounced\" WC=\"0.66\" CC=\"4077005\"/>\r\n",
      "\t\t\t\t\t\t<SP ID=\"P81_SP00067\" HPOS=\"234\" VPOS=\"744\" WIDTH=\"15\"/>\r\n",
      "\t\t\t\t\t\t<String ID=\"P81_ST00079\" HPOS=\"249\" VPOS=\"712\" WIDTH=\"51\" HEIGHT=\"32\" CONTENT=\"the\" WC=\"0.76\" CC=\"070\"/>\r\n",
      "\t\t\t\t\t\t<SP ID=\"P81_SP00068\" HPOS=\"300\" VPOS=\"744\" WIDTH=\"18\"/>\r\n",
      "\t\t\t\t\t\t<String ID=\"P81_ST00080\" HPOS=\"318\" VPOS=\"712\" WIDTH=\"94\" HEIGHT=\"31\" CONTENT=\"world\" WC=\"0.75\" CC=\"00650\"/>\r\n",
      "\t\t\t\t\t\t<SP ID=\"P81_SP00069\" HPOS=\"412\" VPOS=\"744\" WIDTH=\"16\"/>\r\n",
      "\t\t\t\t\t\t<String ID=\"P81_ST00081\" HPOS=\"428\" VPOS=\"712\" WIDTH=\"45\" HEIGHT=\"31\" CONTENT=\"for\" WC=\"0.82\" CC=\"005\"/>\r\n",
      "\t\t\t\t\t\t<SP ID=\"P81_SP00070\" HPOS=\"473\" VPOS=\"744\" WIDTH=\"16\"/>\r\n",
      "\t\t\t\t\t\t<String ID=\"P81_ST00082\" HPOS=\"489\" VPOS=\"712\" WIDTH=\"51\" HEIGHT=\"31\" CONTENT=\"the\" WC=\"0.55\" CC=\"570\"/>\r\n",
      "\t\t\t\t\t\t<SP ID=\"P81_SP00071\" HPOS=\"540\" VPOS=\"744\" WIDTH=\"18\"/>\r\n",
      "\t\t\t\t\t\t<String ID=\"P81_ST00083\" HPOS=\"558\" VPOS=\"713\" WIDTH=\"73\" HEIGHT=\"31\" CONTENT=\"sake\" WC=\"0.87\" CC=\"5000\"/>\r\n",
      "\t\t\t\t\t\t<SP ID=\"P81_SP00072\" HPOS=\"631\" VPOS=\"744\" WIDTH=\"13\"/>\r\n",
      "\t\t\t\t\t\t<String ID=\"P81_ST00084\" HPOS=\"644\" VPOS=\"713\" WIDTH=\"34\" HEIGHT=\"31\" CONTENT=\"of\" WC=\"0.75\" CC=\"40\"/>\r\n",
      "\t\t\t\t\t\t<SP ID=\"P81_SP00073\" HPOS=\"678\" VPOS=\"744\" WIDTH=\"17\"/>\r\n",
      "\t\t\t\t\t\t<String ID=\"P81_ST00085\" HPOS=\"695\" VPOS=\"713\" WIDTH=\"52\" HEIGHT=\"31\" CONTENT=\"the\" WC=\"0.64\" CC=\"370\"/>\r\n",
      "\t\t\t\t\t\t<SP ID=\"P81_SP00074\" HPOS=\"747\" VPOS=\"744\" WIDTH=\"16\"/>\r\n",
      "\t\t\t\t\t\t<String ID=\"P81_ST00086\" HPOS=\"763\" VPOS=\"725\" WIDTH=\"70\" HEIGHT=\"19\" CONTENT=\"man\" WC=\"0.64\" CC=\"045\"/>\r\n",
      "\t\t\t\t\t\t<SP ID=\"P81_SP00075\" HPOS=\"833\" VPOS=\"744\" WIDTH=\"24\"/>\r\n",
      "\t\t\t\t\t\t<String ID=\"P81_ST00087\" HPOS=\"857\" VPOS=\"713\" WIDTH=\"52\" HEIGHT=\"31\" CONTENT=\"she\" WC=\"0.69\" CC=\"170\"/>\r\n",
      "\t\t\t\t\t</TextLine>\r\n",
      "\t\t\t\t\t<TextLine ID=\"P81_TL00013\" HPOS=\"91\" VPOS=\"773\" WIDTH=\"818\" HEIGHT=\"42\">\r\n",
      "\t\t\t\t\t\t<String ID=\"P81_ST00088\" HPOS=\"91\" VPOS=\"774\" WIDTH=\"98\" HEIGHT=\"40\" CONTENT=\"loved,\" WC=\"0.83\" CC=\"305001\"/>\r\n",
      "\t\t\t\t\t\t<SP ID=\"P81_SP00076\" HPOS=\"189\" VPOS=\"814\" WIDTH=\"18\"/>\r\n",
      "\t\t\t\t\t\t<String ID=\"P81_ST00089\" HPOS=\"207\" VPOS=\"785\" WIDTH=\"63\" HEIGHT=\"20\" CONTENT=\"was\" WC=\"0.54\" CC=\"904\"/>\r\n",
      "\t\t\t\t\t\t<SP ID=\"P81_SP00077\" HPOS=\"270\" VPOS=\"814\" WIDTH=\"16\"/>\r\n",
      "\t\t\t\t\t\t<String ID=\"P81_ST00090\" HPOS=\"286\" VPOS=\"777\" WIDTH=\"54\" HEIGHT=\"27\" CONTENT=\"not\" WC=\"1.00\" CC=\"000\"/>\r\n",
      "\t\t\t\t\t\t<SP ID=\"P81_SP00078\" HPOS=\"340\" VPOS=\"814\" WIDTH=\"16\"/>\r\n",
      "\t\t\t\t\t\t<String ID=\"P81_ST00091\" HPOS=\"356\" VPOS=\"785\" WIDTH=\"39\" HEIGHT=\"19\" CONTENT=\"an\" WC=\"0.76\" CC=\"04\"/>\r\n",
      "\t\t\t\t\t\t<SP ID=\"P81_SP00079\" HPOS=\"395\" VPOS=\"814\" WIDTH=\"16\"/>\r\n",
      "\t\t\t\t\t\t<String ID=\"P81_ST00092\" HPOS=\"411\" VPOS=\"773\" WIDTH=\"100\" HEIGHT=\"42\" CONTENT=\"object\" WC=\"0.89\" CC=\"060000\"/>\r\n",
      "\t\t\t\t\t\t<SP ID=\"P81_SP00080\" HPOS=\"511\" VPOS=\"815\" WIDTH=\"16\"/>\r\n",
      "\t\t\t\t\t\t<String ID=\"P81_ST00093\" HPOS=\"527\" VPOS=\"773\" WIDTH=\"34\" HEIGHT=\"31\" CONTENT=\"of\" WC=\"1.00\" CC=\"00\"/>\r\n",
      "\t\t\t\t\t\t<SP ID=\"P81_SP00081\" HPOS=\"561\" VPOS=\"815\" WIDTH=\"11\"/>\r\n",
      "\t\t\t\t\t\t<String ID=\"P81_ST00094\" HPOS=\"572\" VPOS=\"773\" WIDTH=\"183\" HEIGHT=\"32\" CONTENT=\"Pharisaical\" WC=\"0.54\" CC=\"67040557490\"/>\r\n",
      "\t\t\t\t\t\t<SP ID=\"P81_SP00082\" HPOS=\"755\" VPOS=\"815\" WIDTH=\"11\"/>\r\n",
      "\t\t\t\t\t\t<String ID=\"P81_ST00095\" HPOS=\"766\" VPOS=\"774\" WIDTH=\"143\" HEIGHT=\"41\" CONTENT=\"loathing,\" WC=\"0.73\" CC=\"000076701\"/>\r\n",
      "\t\t\t\t\t</TextLine>\r\n",
      "\t\t\t\t\t<TextLine ID=\"P81_TL00014\" HPOS=\"91\" VPOS=\"834\" WIDTH=\"819\" HEIGHT=\"42\">\r\n",
      "\t\t\t\t\t\t<String ID=\"P81_ST00096\" HPOS=\"91\" VPOS=\"847\" WIDTH=\"33\" HEIGHT=\"20\" CONTENT=\"as\" WC=\"0.67\" CC=\"06\"/>\r\n",
      "\t\t\t\t\t\t<SP ID=\"P81_SP00083\" HPOS=\"124\" VPOS=\"867\" WIDTH=\"24\"/>\r\n",
      "\t\t\t\t\t\t<String ID=\"P81_ST00097\" HPOS=\"148\" VPOS=\"834\" WIDTH=\"54\" HEIGHT=\"32\" CONTENT=\"she\" WC=\"0.68\" CC=\"270\"/>\r\n",
      "\t\t\t\t\t\t<SP ID=\"P81_SP00084\" HPOS=\"202\" VPOS=\"867\" WIDTH=\"23\"/>\r\n",
      "\t\t\t\t\t\t<String ID=\"P81_ST00098\" HPOS=\"225\" VPOS=\"846\" WIDTH=\"62\" HEIGHT=\"20\" CONTENT=\"was\" WC=\"1.00\" CC=\"000\"/>\r\n",
      "\t\t\t\t\t\t<SP ID=\"P81_SP00085\" HPOS=\"287\" VPOS=\"867\" WIDTH=\"28\"/>\r\n",
      "\t\t\t\t\t\t<String ID=\"P81_ST00099\" HPOS=\"315\" VPOS=\"834\" WIDTH=\"99\" HEIGHT=\"31\" CONTENT=\"stated\" WC=\"0.81\" CC=\"302400\"/>\r\n",
      "\t\t\t\t\t\t<SP ID=\"P81_SP00086\" HPOS=\"414\" VPOS=\"867\" WIDTH=\"24\"/>\r\n",
      "\t\t\t\t\t\t<String ID=\"P81_ST00100\" HPOS=\"438\" VPOS=\"838\" WIDTH=\"32\" HEIGHT=\"27\" CONTENT=\"to\" WC=\"0.97\" CC=\"00\"/>\r\n",
      "\t\t\t\t\t\t<SP ID=\"P81_SP00087\" HPOS=\"470\" VPOS=\"867\" WIDTH=\"26\"/>\r\n",
      "\t\t\t\t\t\t<String ID=\"P81_ST00101\" HPOS=\"496\" VPOS=\"834\" WIDTH=\"38\" HEIGHT=\"31\" CONTENT=\"be\" WC=\"0.63\" CC=\"70\"/>\r\n",
      "\t\t\t\t\t\t<SP ID=\"P81_SP00088\" HPOS=\"534\" VPOS=\"867\" WIDTH=\"26\"/>\r\n",
      "\t\t\t\t\t\t<String ID=\"P81_ST00102\" HPOS=\"560\" VPOS=\"838\" WIDTH=\"31\" HEIGHT=\"27\" CONTENT=\"to\" WC=\"1.00\" CC=\"00\"/>\r\n",
      "\t\t\t\t\t\t<SP ID=\"P81_SP00089\" HPOS=\"591\" VPOS=\"867\" WIDTH=\"26\"/>\r\n",
      "\t\t\t\t\t\t<String ID=\"P81_ST00103\" HPOS=\"617\" VPOS=\"834\" WIDTH=\"53\" HEIGHT=\"31\" CONTENT=\"the\" WC=\"0.75\" CC=\"070\"/>\r\n",
      "\t\t\t\t\t\t<SP ID=\"P81_SP00090\" HPOS=\"670\" VPOS=\"867\" WIDTH=\"17\"/>\r\n",
      "\t\t\t\t\t\t<String ID=\"P81_ST00104\" HPOS=\"687\" VPOS=\"835\" WIDTH=\"104\" HEIGHT=\"41\" CONTENT=\"dainty\" WC=\"0.69\" CC=\"902140\"/>\r\n",
      "\t\t\t\t\t\t<SP ID=\"P81_SP00091\" HPOS=\"791\" VPOS=\"876\" WIDTH=\"16\"/>\r\n",
      "\t\t\t\t\t\t<String ID=\"P81_ST00105\" HPOS=\"807\" VPOS=\"835\" WIDTH=\"103\" HEIGHT=\"31\" CONTENT=\"dames\" WC=\"0.90\" CC=\"00005\"/>\r\n",
      "\t\t\t\t\t</TextLine>\r\n",
      "\t\t\t\t\t<TextLine ID=\"P81_TL00015\" HPOS=\"91\" VPOS=\"895\" WIDTH=\"819\" HEIGHT=\"42\">\r\n",
      "\t\t\t\t\t\t<String ID=\"P81_ST00106\" HPOS=\"91\" VPOS=\"896\" WIDTH=\"69\" HEIGHT=\"31\" CONTENT=\"who\" WC=\"0.80\" CC=\"060\"/>\r\n",
      "\t\t\t\t\t\t<SP ID=\"P81_SP00092\" HPOS=\"160\" VPOS=\"927\" WIDTH=\"23\"/>\r\n",
      "\t\t\t\t\t\t<String ID=\"P81_ST00107\" HPOS=\"183\" VPOS=\"895\" WIDTH=\"129\" HEIGHT=\"42\" CONTENT=\"reputed\" WC=\"0.67\" CC=\"0096600\"/>\r\n",
      "\t\t\t\t\t\t<SP ID=\"P81_SP00093\" HPOS=\"312\" VPOS=\"937\" WIDTH=\"16\"/>\r\n",
      "\t\t\t\t\t\t<String ID=\"P81_ST00108\" HPOS=\"328\" VPOS=\"895\" WIDTH=\"184\" HEIGHT=\"31\" CONTENT=\"themselves\" WC=\"0.74\" CC=\"0700602206\"/>\r\n",
      "\t\t\t\t\t\t<SP ID=\"P81_SP00094\" HPOS=\"512\" VPOS=\"937\" WIDTH=\"16\"/>\r\n",
      "\t\t\t\t\t\t<String ID=\"P81_ST00109\" HPOS=\"528\" VPOS=\"895\" WIDTH=\"138\" HEIGHT=\"32\" CONTENT=\"virtuous\" WC=\"0.67\" CC=\"51507060\"/>\r\n",
      "\t\t\t\t\t\t<SP ID=\"P81_SP00095\" HPOS=\"666\" VPOS=\"937\" WIDTH=\"24\"/>\r\n",
      "\t\t\t\t\t\t<String ID=\"P81_ST00110\" HPOS=\"690\" VPOS=\"896\" WIDTH=\"130\" HEIGHT=\"31\" CONTENT=\"because\" WC=\"0.86\" CC=\"0000620\"/>\r\n",
      "\t\t\t\t\t\t<SP ID=\"P81_SP00096\" HPOS=\"820\" VPOS=\"937\" WIDTH=\"16\"/>\r\n",
      "\t\t\t\t\t\t<String ID=\"P81_ST00111\" HPOS=\"836\" VPOS=\"896\" WIDTH=\"74\" HEIGHT=\"41\" CONTENT=\"they\" WC=\"0.63\" CC=\"7700\"/>\r\n",
      "\t\t\t\t\t</TextLine>\r\n",
      "\t\t\t\t\t<TextLine ID=\"P81_TL00016\" HPOS=\"90\" VPOS=\"956\" WIDTH=\"819\" HEIGHT=\"43\">\r\n",
      "\t\t\t\t\t\t<String ID=\"P81_ST00112\" HPOS=\"90\" VPOS=\"957\" WIDTH=\"74\" HEIGHT=\"42\" CONTENT=\"kept\" WC=\"0.81\" CC=\"0070\"/>\r\n",
      "\t\t\t\t\t\t<SP ID=\"P81_SP00097\" HPOS=\"164\" VPOS=\"999\" WIDTH=\"24\"/>\r\n",
      "\t\t\t\t\t\t<String ID=\"P81_ST00113\" HPOS=\"188\" VPOS=\"969\" WIDTH=\"82\" HEIGHT=\"30\" CONTENT=\"upon\" WC=\"0.72\" CC=\"7003\"/>\r\n",
      "\t\t\t\t\t\t<SP ID=\"P81_SP00098\" HPOS=\"270\" VPOS=\"999\" WIDTH=\"28\"/>\r\n",
      "\t\t\t\t\t\t<String ID=\"P81_ST00114\" HPOS=\"298\" VPOS=\"957\" WIDTH=\"80\" HEIGHT=\"40\" CONTENT=\"good\" WC=\"0.69\" CC=\"0605\"/>\r\n",
      "\t\t\t\t\t\t<SP ID=\"P81_SP00099\" HPOS=\"378\" VPOS=\"999\" WIDTH=\"26\"/>\r\n",
      "\t\t\t\t\t\t<String ID=\"P81_ST00115\" HPOS=\"404\" VPOS=\"961\" WIDTH=\"95\" HEIGHT=\"26\" CONTENT=\"terms\" WC=\"0.86\" CC=\"00006\"/>\r\n",
      "\t\t\t\t\t\t<SP ID=\"P81_SP00100\" HPOS=\"499\" VPOS=\"999\" WIDTH=\"23\"/>\r\n",
      "\t\t\t\t\t\t<String ID=\"P81_ST00116\" HPOS=\"522\" VPOS=\"956\" WIDTH=\"75\" HEIGHT=\"31\" CONTENT=\"with\" WC=\"0.79\" CC=\"0107\"/>\r\n",
      "\t\t\t\t\t\t<SP ID=\"P81_SP00101\" HPOS=\"597\" VPOS=\"999\" WIDTH=\"30\"/>\r\n",
      "\t\t\t\t\t\t<String ID=\"P81_ST00117\" HPOS=\"627\" VPOS=\"956\" WIDTH=\"52\" HEIGHT=\"32\" CONTENT=\"the\" WC=\"0.75\" CC=\"070\"/>\r\n",
      "\t\t\t\t\t\t<SP ID=\"P81_SP00102\" HPOS=\"679\" VPOS=\"999\" WIDTH=\"26\"/>\r\n",
      "\t\t\t\t\t\t<String ID=\"P81_ST00118\" HPOS=\"705\" VPOS=\"957\" WIDTH=\"96\" HEIGHT=\"31\" CONTENT=\"world\" WC=\"0.83\" CC=\"02500\"/>\r\n",
      "\t\t\t\t\t\t<String ID=\"P81_ST00119\" HPOS=\"815\" VPOS=\"970\" WIDTH=\"5\" HEIGHT=\"27\" CONTENT=\";\" WC=\"0.70\" CC=\"2\"/>\r\n",
      "\t\t\t\t\t\t<SP ID=\"P81_SP00103\" HPOS=\"820\" VPOS=\"999\" WIDTH=\"36\"/>\r\n",
      "\t\t\t\t\t\t<String ID=\"P81_ST00120\" HPOS=\"856\" VPOS=\"957\" WIDTH=\"53\" HEIGHT=\"31\" CONTENT=\"she\" WC=\"0.56\" CC=\"570\"/>\r\n",
      "\t\t\t\t\t</TextLine>\r\n",
      "\t\t\t\t\t<TextLine ID=\"P81_TL00017\" HPOS=\"90\" VPOS=\"1017\" WIDTH=\"819\" HEIGHT=\"42\">\r\n",
      "\t\t\t\t\t\t<String ID=\"P81_ST00121\" HPOS=\"90\" VPOS=\"1031\" WIDTH=\"64\" HEIGHT=\"19\" CONTENT=\"was\" WC=\"0.80\" CC=\"005\"/>\r\n",
      "\t\t\t\t\t\t<SP ID=\"P81_SP00104\" HPOS=\"154\" VPOS=\"1050\" WIDTH=\"16\"/>\r\n",
      "\t\t\t\t\t\t<String ID=\"P81_ST00122\" HPOS=\"170\" VPOS=\"1030\" WIDTH=\"39\" HEIGHT=\"20\" CONTENT=\"an\" WC=\"0.72\" CC=\"05\"/>\r\n",
      "\t\t\t\t\t\t<SP ID=\"P81_SP00105\" HPOS=\"209\" VPOS=\"1050\" WIDTH=\"14\"/>\r\n",
      "\t\t\t\t\t\t<String ID=\"P81_ST00123\" HPOS=\"223\" VPOS=\"1018\" WIDTH=\"98\" HEIGHT=\"41\" CONTENT=\"object\" WC=\"0.83\" CC=\"070010\"/>\r\n",
      "\t\t\t\t\t\t<SP ID=\"P81_SP00106\" HPOS=\"321\" VPOS=\"1059\" WIDTH=\"13\"/>\r\n",
      "\t\t\t\t\t\t<String ID=\"P81_ST00124\" HPOS=\"334\" VPOS=\"1018\" WIDTH=\"34\" HEIGHT=\"31\" CONTENT=\"of\" WC=\"1.00\" CC=\"00\"/>\r\n",
      "\t\t\t\t\t\t<SP ID=\"P81_SP00107\" HPOS=\"368\" VPOS=\"1059\" WIDTH=\"10\"/>\r\n",
      "\t\t\t\t\t\t<String ID=\"P81_ST00125\" HPOS=\"378\" VPOS=\"1017\" WIDTH=\"120\" HEIGHT=\"31\" CONTENT=\"intense\" WC=\"0.69\" CC=\"5060720\"/>\r\n",
      "\t\t\t\t\t\t<SP ID=\"P81_SP00108\" HPOS=\"498\" VPOS=\"1059\" WIDTH=\"17\"/>\r\n",
      "\t\t\t\t\t\t<String ID=\"P81_ST00126\" HPOS=\"515\" VPOS=\"1017\" WIDTH=\"251\" HEIGHT=\"40\" CONTENT=\"commiseration,\" WC=\"0.82\" CC=\"00005505000061\"/>\r\n",
      "\t\t\t\t\t\t<SP ID=\"P81_SP00109\" HPOS=\"766\" VPOS=\"1059\" WIDTH=\"12\"/>\r\n",
      "\t\t\t\t\t\t<String ID=\"P81_ST00127\" HPOS=\"778\" VPOS=\"1017\" WIDTH=\"131\" HEIGHT=\"32\" CONTENT=\"because\" WC=\"0.80\" CC=\"6000510\"/>\r\n",
      "\t\t\t\t\t</TextLine>\r\n",
      "\t\t\t\t\t<TextLine ID=\"P81_TL00018\" HPOS=\"91\" VPOS=\"1078\" WIDTH=\"818\" HEIGHT=\"42\">\r\n",
      "\t\t\t\t\t\t<String ID=\"P81_ST00128\" HPOS=\"91\" VPOS=\"1080\" WIDTH=\"53\" HEIGHT=\"32\" CONTENT=\"she\" WC=\"0.54\" CC=\"670\"/>\r\n",
      "\t\t\t\t\t\t<SP ID=\"P81_SP00110\" HPOS=\"144\" VPOS=\"1112\" WIDTH=\"31\"/>\r\n",
      "\t\t\t\t\t\t<String ID=\"P81_ST00129\" HPOS=\"175\" VPOS=\"1079\" WIDTH=\"61\" HEIGHT=\"32\" CONTENT=\"had\" WC=\"0.75\" CC=\"700\"/>\r\n",
      "\t\t\t\t\t\t<SP ID=\"P81_SP00111\" HPOS=\"236\" VPOS=\"1112\" WIDTH=\"32\"/>\r\n",
      "\t\t\t\t\t\t<String ID=\"P81_ST00130\" HPOS=\"268\" VPOS=\"1078\" WIDTH=\"155\" HEIGHT=\"32\" CONTENT=\"sacrificed\" WC=\"0.90\" CC=\"4000022000\"/>\r\n",
      "\t\t\t\t\t\t<SP ID=\"P81_SP00112\" HPOS=\"423\" VPOS=\"1112\" WIDTH=\"30\"/>\r\n",
      "\t\t\t\t\t\t<String ID=\"P81_ST00131\" HPOS=\"453\" VPOS=\"1078\" WIDTH=\"119\" HEIGHT=\"32\" CONTENT=\"herself.\" WC=\"0.70\" CC=\"70650400\"/>\r\n",
      "\t\t\t\t\t\t<SP ID=\"P81_SP00113\" HPOS=\"572\" VPOS=\"1112\" WIDTH=\"58\"/>\r\n",
      "\t\t\t\t\t\t<String ID=\"P81_ST00132\" HPOS=\"630\" VPOS=\"1079\" WIDTH=\"72\" HEIGHT=\"30\" CONTENT=\"And\" WC=\"0.75\" CC=\"070\"/>\r\n",
      "\t\t\t\t\t\t<SP ID=\"P81_SP00114\" HPOS=\"702\" VPOS=\"1112\" WIDTH=\"30\"/>\r\n",
      "\t\t\t\t\t\t<String ID=\"P81_ST00133\" HPOS=\"732\" VPOS=\"1090\" WIDTH=\"75\" HEIGHT=\"30\" CONTENT=\"poor\" WC=\"0.90\" CC=\"0004\"/>\r\n",
      "\t\t\t\t\t\t<SP ID=\"P81_SP00115\" HPOS=\"807\" VPOS=\"1120\" WIDTH=\"30\"/>\r\n",
      "\t\t\t\t\t\t<String ID=\"P81_ST00134\" HPOS=\"837\" VPOS=\"1078\" WIDTH=\"72\" HEIGHT=\"31\" CONTENT=\"dear\" WC=\"0.86\" CC=\"0005\"/>\r\n",
      "\t\t\t\t\t</TextLine>\r\n",
      "\t\t\t\t\t<TextLine ID=\"P81_TL00019\" HPOS=\"89\" VPOS=\"1139\" WIDTH=\"815\" HEIGHT=\"41\">\r\n",
      "\t\t\t\t\t\t<String ID=\"P81_ST00135\" HPOS=\"89\" VPOS=\"1142\" WIDTH=\"86\" HEIGHT=\"31\" CONTENT=\"Aunt\" WC=\"0.66\" CC=\"0723\"/>\r\n",
      "\t\t\t\t\t\t<SP ID=\"P81_SP00116\" HPOS=\"175\" VPOS=\"1173\" WIDTH=\"16\"/>\r\n",
      "\t\t\t\t\t\t<String ID=\"P81_ST00136\" HPOS=\"191\" VPOS=\"1140\" WIDTH=\"200\" HEIGHT=\"40\" CONTENT=\"Clementine,\" WC=\"0.73\" CC=\"72700002602\"/>\r\n",
      "\t\t\t\t\t\t<SP ID=\"P81_SP00117\" HPOS=\"391\" VPOS=\"1180\" WIDTH=\"14\"/>\r\n",
      "\t\t\t\t\t\t<String ID=\"P81_ST00137\" HPOS=\"405\" VPOS=\"1139\" WIDTH=\"68\" HEIGHT=\"32\" CONTENT=\"who\" WC=\"0.67\" CC=\"072\"/>\r\n",
      "\t\t\t\t\t\t<SP ID=\"P81_SP00118\" HPOS=\"473\" VPOS=\"1180\" WIDTH=\"13\"/>\r\n",
      "\t\t\t\t\t\t<String ID=\"P81_ST00138\" HPOS=\"486\" VPOS=\"1151\" WIDTH=\"63\" HEIGHT=\"19\" CONTENT=\"was\" WC=\"0.84\" CC=\"004\"/>\r\n",
      "\t\t\t\t\t\t<SP ID=\"P81_SP00119\" HPOS=\"549\" VPOS=\"1180\" WIDTH=\"17\"/>\r\n",
      "\t\t\t\t\t\t<String ID=\"P81_ST00139\" HPOS=\"566\" VPOS=\"1151\" WIDTH=\"17\" HEIGHT=\"19\" CONTENT=\"a\" WC=\"1.00\" CC=\"0\"/>\r\n",
      "\t\t\t\t\t\t<SP ID=\"P81_SP00120\" HPOS=\"583\" VPOS=\"1180\" WIDTH=\"16\"/>\r\n",
      "\t\t\t\t\t\t<String ID=\"P81_ST00140\" HPOS=\"599\" VPOS=\"1139\" WIDTH=\"130\" HEIGHT=\"41\" CONTENT=\"genuine\" WC=\"0.83\" CC=\"0025020\"/>\r\n",
      "\t\t\t\t\t\t<SP ID=\"P81_SP00121\" HPOS=\"729\" VPOS=\"1180\" WIDTH=\"14\"/>\r\n",
      "\t\t\t\t\t\t<String ID=\"P81_ST00141\" HPOS=\"743\" VPOS=\"1139\" WIDTH=\"161\" HEIGHT=\"40\" CONTENT=\"Christian,\" WC=\"0.63\" CC=\"6752104260\"/>\r\n",
      "\t\t\t\t\t</TextLine>\r\n",
      "\t\t\t\t\t<TextLine ID=\"P81_TL00020\" HPOS=\"90\" VPOS=\"1200\" WIDTH=\"818\" HEIGHT=\"34\">\r\n",
      "\t\t\t\t\t\t<String ID=\"P81_ST00142\" HPOS=\"90\" VPOS=\"1202\" WIDTH=\"61\" HEIGHT=\"32\" CONTENT=\"and\" WC=\"0.81\" CC=\"050\"/>\r\n",
      "\t\t\t\t\t\t<SP ID=\"P81_SP00122\" HPOS=\"151\" VPOS=\"1234\" WIDTH=\"12\"/>\r\n",
      "\t\t\t\t\t\t<String ID=\"P81_ST00143\" HPOS=\"163\" VPOS=\"1202\" WIDTH=\"50\" HEIGHT=\"32\" CONTENT=\"did\" WC=\"0.71\" CC=\"700\"/>\r\n",
      "\t\t\t\t\t\t<SP ID=\"P81_SP00123\" HPOS=\"213\" VPOS=\"1234\" WIDTH=\"16\"/>\r\n",
      "\t\t\t\t\t\t<String ID=\"P81_ST00144\" HPOS=\"229\" VPOS=\"1202\" WIDTH=\"54\" HEIGHT=\"31\" CONTENT=\"her\" WC=\"0.55\" CC=\"705\"/>\r\n",
      "\t\t\t\t\t\t<SP ID=\"P81_SP00124\" HPOS=\"283\" VPOS=\"1234\" WIDTH=\"12\"/>\r\n",
      "\t\t\t\t\t\t<String ID=\"P81_ST00145\" HPOS=\"295\" VPOS=\"1202\" WIDTH=\"67\" HEIGHT=\"30\" CONTENT=\"best\" WC=\"0.81\" CC=\"5010\"/>\r\n",
      "\t\t\t\t\t\t<SP ID=\"P81_SP00125\" HPOS=\"362\" VPOS=\"1234\" WIDTH=\"16\"/>\r\n",
      "\t\t\t\t\t\t<String ID=\"P81_ST00146\" HPOS=\"378\" VPOS=\"1201\" WIDTH=\"61\" HEIGHT=\"31\" CONTENT=\"and\" WC=\"0.76\" CC=\"070\"/>\r\n",
      "\t\t\t\t\t\t<SP ID=\"P81_SP00126\" HPOS=\"439\" VPOS=\"1234\" WIDTH=\"15\"/>\r\n",
      "\t\t\t\t\t\t<String ID=\"P81_ST00147\" HPOS=\"454\" VPOS=\"1205\" WIDTH=\"116\" HEIGHT=\"27\" CONTENT=\"utmost\" WC=\"0.75\" CC=\"520330\"/>\r\n",
      "\t\t\t\t\t\t<SP ID=\"P81_SP00127\" HPOS=\"570\" VPOS=\"1234\" WIDTH=\"14\"/>\r\n",
      "\t\t\t\t\t\t<String ID=\"P81_ST00148\" HPOS=\"584\" VPOS=\"1205\" WIDTH=\"31\" HEIGHT=\"27\" CONTENT=\"to\" WC=\"0.61\" CC=\"52\"/>\r\n",
      "\t\t\t\t\t\t<SP ID=\"P81_SP00128\" HPOS=\"615\" VPOS=\"1234\" WIDTH=\"16\"/>\r\n",
      "\t\t\t\t\t\t<String ID=\"P81_ST00149\" HPOS=\"631\" VPOS=\"1200\" WIDTH=\"101\" HEIGHT=\"32\" CONTENT=\"follow\" WC=\"0.89\" CC=\"000320\"/>\r\n",
      "\t\t\t\t\t\t<SP ID=\"P81_SP00129\" HPOS=\"732\" VPOS=\"1234\" WIDTH=\"11\"/>\r\n",
      "\t\t\t\t\t\t<String ID=\"P81_ST00150\" HPOS=\"743\" VPOS=\"1200\" WIDTH=\"54\" HEIGHT=\"32\" CONTENT=\"her\" WC=\"0.75\" CC=\"700\"/>\r\n",
      "\t\t\t\t\t\t<SP ID=\"P81_SP00130\" HPOS=\"797\" VPOS=\"1234\" WIDTH=\"10\"/>\r\n",
      "\t\t\t\t\t\t<String ID=\"P81_ST00151\" HPOS=\"807\" VPOS=\"1200\" WIDTH=\"101\" HEIGHT=\"31\" CONTENT=\"divine\" WC=\"0.55\" CC=\"814470\"/>\r\n",
      "\t\t\t\t\t</TextLine>\r\n",
      "\t\t\t\t\t<TextLine ID=\"P81_TL00021\" HPOS=\"89\" VPOS=\"1262\" WIDTH=\"819\" HEIGHT=\"42\">\r\n",
      "\t\t\t\t\t\t<String ID=\"P81_ST00152\" HPOS=\"89\" VPOS=\"1263\" WIDTH=\"143\" HEIGHT=\"33\" CONTENT=\"Master's\" WC=\"0.80\" CC=\"00201505\"/>\r\n",
      "\t\t\t\t\t\t<SP ID=\"P81_SP00131\" HPOS=\"232\" VPOS=\"1296\" WIDTH=\"16\"/>\r\n",
      "\t\t\t\t\t\t<String ID=\"P81_ST00153\" HPOS=\"248\" VPOS=\"1262\" WIDTH=\"167\" HEIGHT=\"42\" CONTENT=\"teachings,\" WC=\"0.73\" CC=\"2000753061\"/>\r\n",
      "\t\t\t\t\t\t<SP ID=\"P81_SP00132\" HPOS=\"415\" VPOS=\"1304\" WIDTH=\"18\"/>\r\n",
      "\t\t\t\t\t\t<String ID=\"P81_ST00154\" HPOS=\"433\" VPOS=\"1262\" WIDTH=\"133\" HEIGHT=\"42\" CONTENT=\"thought\" WC=\"0.60\" CC=\"1747070\"/>\r\n",
      "\t\t\t\t\t\t<SP ID=\"P81_SP00133\" HPOS=\"566\" VPOS=\"1304\" WIDTH=\"19\"/>\r\n",
      "\t\t\t\t\t\t<String ID=\"P81_ST00155\" HPOS=\"585\" VPOS=\"1262\" WIDTH=\"67\" HEIGHT=\"32\" CONTENT=\"that\" WC=\"0.65\" CC=\"0706\"/>\r\n",
      "\t\t\t\t\t\t<SP ID=\"P81_SP00134\" HPOS=\"652\" VPOS=\"1304\" WIDTH=\"15\"/>\r\n",
      "\t\t\t\t\t\t<String ID=\"P81_ST00156\" HPOS=\"667\" VPOS=\"1262\" WIDTH=\"26\" HEIGHT=\"31\" CONTENT=\"if\" WC=\"0.79\" CC=\"40\"/>\r\n",
      "\t\t\t\t\t\t<SP ID=\"P81_SP00135\" HPOS=\"693\" VPOS=\"1304\" WIDTH=\"17\"/>\r\n",
      "\t\t\t\t\t\t<String ID=\"P81_ST00157\" HPOS=\"710\" VPOS=\"1262\" WIDTH=\"39\" HEIGHT=\"31\" CONTENT=\"he\" WC=\"0.62\" CC=\"70\"/>\r\n",
      "\t\t\t\t\t\t<SP ID=\"P81_SP00136\" HPOS=\"749\" VPOS=\"1304\" WIDTH=\"18\"/>\r\n",
      "\t\t\t\t\t\t<String ID=\"P81_ST00158\" HPOS=\"767\" VPOS=\"1262\" WIDTH=\"88\" HEIGHT=\"31\" CONTENT=\"could\" WC=\"0.70\" CC=\"00734\"/>\r\n",
      "\t\t\t\t\t\t<SP ID=\"P81_SP00137\" HPOS=\"855\" VPOS=\"1304\" WIDTH=\"15\"/>\r\n",
      "\t\t\t\t\t\t<String ID=\"P81_ST00159\" HPOS=\"870\" VPOS=\"1262\" WIDTH=\"38\" HEIGHT=\"31\" CONTENT=\"be\" WC=\"1.00\" CC=\"00\"/>\r\n",
      "\t\t\t\t\t</TextLine>\r\n",
      "\t\t\t\t\t<TextLine ID=\"P81_TL00022\" HPOS=\"89\" VPOS=\"1322\" WIDTH=\"818\" HEIGHT=\"44\">\r\n",
      "\t\t\t\t\t\t<String ID=\"P81_ST00160\" HPOS=\"89\" VPOS=\"1335\" WIDTH=\"33\" HEIGHT=\"21\" CONTENT=\"so\" WC=\"0.76\" CC=\"40\"/>\r\n",
      "\t\t\t\t\t\t<SP ID=\"P81_SP00138\" HPOS=\"122\" VPOS=\"1356\" WIDTH=\"30\"/>\r\n",
      "\t\t\t\t\t\t<String ID=\"P81_ST00161\" HPOS=\"152\" VPOS=\"1323\" WIDTH=\"99\" HEIGHT=\"43\" CONTENT=\"pitiful\" WC=\"0.71\" CC=\"0651060\"/>\r\n",
      "\t\t\t\t\t\t<SP ID=\"P81_SP00139\" HPOS=\"251\" VPOS=\"1366\" WIDTH=\"15\"/>\r\n",
      "\t\t\t\t\t\t<String ID=\"P81_ST00162\" HPOS=\"266\" VPOS=\"1323\" WIDTH=\"135\" HEIGHT=\"32\" CONTENT=\"towards\" WC=\"0.67\" CC=\"6000563\"/>\r\n",
      "\t\t\t\t\t\t<SP ID=\"P81_SP00140\" HPOS=\"401\" VPOS=\"1366\" WIDTH=\"16\"/>\r\n",
      "\t\t\t\t\t\t<String ID=\"P81_ST00163\" HPOS=\"417\" VPOS=\"1323\" WIDTH=\"54\" HEIGHT=\"32\" CONTENT=\"the\" WC=\"0.76\" CC=\"070\"/>\r\n",
      "\t\t\t\t\t\t<SP ID=\"P81_SP00141\" HPOS=\"471\" VPOS=\"1366\" WIDTH=\"19\"/>\r\n",
      "\t\t\t\t\t\t<String ID=\"P81_ST00164\" HPOS=\"490\" VPOS=\"1334\" WIDTH=\"120\" HEIGHT=\"20\" CONTENT=\"woman\" WC=\"0.91\" CC=\"01002\"/>\r\n",
      "\t\t\t\t\t\t<SP ID=\"P81_SP00142\" HPOS=\"610\" VPOS=\"1366\" WIDTH=\"15\"/>\r\n",
      "\t\t\t\t\t\t<String ID=\"P81_ST00165\" HPOS=\"625\" VPOS=\"1322\" WIDTH=\"101\" HEIGHT=\"32\" CONTENT=\"whom\" WC=\"0.56\" CC=\"9700\"/>\r\n",
      "\t\t\t\t\t\t<SP ID=\"P81_SP00143\" HPOS=\"726\" VPOS=\"1366\" WIDTH=\"16\"/>\r\n",
      "\t\t\t\t\t\t<String ID=\"P81_ST00166\" HPOS=\"742\" VPOS=\"1322\" WIDTH=\"38\" HEIGHT=\"32\" CONTENT=\"he\" WC=\"0.63\" CC=\"70\"/>\r\n",
      "\t\t\t\t\t\t<SP ID=\"P81_SP00144\" HPOS=\"780\" VPOS=\"1366\" WIDTH=\"16\"/>\r\n",
      "\t\t\t\t\t\t<String ID=\"P81_ST00167\" HPOS=\"796\" VPOS=\"1322\" WIDTH=\"64\" HEIGHT=\"31\" CONTENT=\"told\" WC=\"0.63\" CC=\"1047\"/>\r\n",
      "\t\t\t\t\t\t<SP ID=\"P81_SP00145\" HPOS=\"860\" VPOS=\"1366\" WIDTH=\"15\"/>\r\n",
      "\t\t\t\t\t\t<String ID=\"P81_ST00168\" HPOS=\"875\" VPOS=\"1326\" WIDTH=\"32\" HEIGHT=\"27\" CONTENT=\"to\" WC=\"1.00\" CC=\"00\"/>\r\n",
      "\t\t\t\t\t</TextLine>\r\n",
      "\t\t\t\t\t<TextLine ID=\"P81_TL00023\" HPOS=\"90\" VPOS=\"1384\" WIDTH=\"819\" HEIGHT=\"44\">\r\n",
      "\t\t\t\t\t\t<String ID=\"P81_ST00169\" HPOS=\"90\" VPOS=\"1387\" WIDTH=\"68\" HEIGHT=\"41\" CONTENT='\"go' WC=\"0.82\" CC=\"103\"/>\r\n",
      "\t\t\t\t\t\t<SP ID=\"P81_SP00146\" HPOS=\"158\" VPOS=\"1428\" WIDTH=\"19\"/>\r\n",
      "\t\t\t\t\t\t<String ID=\"P81_ST00170\" HPOS=\"177\" VPOS=\"1385\" WIDTH=\"60\" HEIGHT=\"32\" CONTENT=\"and\" WC=\"0.76\" CC=\"070\"/>\r\n",
      "\t\t\t\t\t\t<SP ID=\"P81_SP00147\" HPOS=\"237\" VPOS=\"1428\" WIDTH=\"24\"/>\r\n",
      "\t\t\t\t\t\t<String ID=\"P81_ST00171\" HPOS=\"261\" VPOS=\"1385\" WIDTH=\"46\" HEIGHT=\"32\" CONTENT=\"sin\" WC=\"0.43\" CC=\"637\"/>\r\n",
      "\t\t\t\t\t\t<SP ID=\"P81_SP00148\" HPOS=\"307\" VPOS=\"1428\" WIDTH=\"20\"/>\r\n",
      "\t\t\t\t\t\t<String ID=\"P81_ST00172\" HPOS=\"327\" VPOS=\"1396\" WIDTH=\"40\" HEIGHT=\"21\" CONTENT=\"no\" WC=\"0.88\" CC=\"20\"/>\r\n",
      "\t\t\t\t\t\t<SP ID=\"P81_SP00149\" HPOS=\"367\" VPOS=\"1428\" WIDTH=\"18\"/>\r\n",
      "\t\t\t\t\t\t<String ID=\"P81_ST00173\" HPOS=\"385\" VPOS=\"1385\" WIDTH=\"115\" HEIGHT=\"40\" CONTENT='more,\"' WC=\"0.77\" CC=\"702003\"/>\r\n",
      "\t\t\t\t\t\t<SP ID=\"P81_SP00150\" HPOS=\"500\" VPOS=\"1428\" WIDTH=\"26\"/>\r\n",
      "\t\t\t\t\t\t<String ID=\"P81_ST00174\" HPOS=\"526\" VPOS=\"1384\" WIDTH=\"24\" HEIGHT=\"32\" CONTENT=\"it\" WC=\"0.80\" CC=\"21\"/>\r\n",
      "\t\t\t\t\t\t<SP ID=\"P81_SP00151\" HPOS=\"550\" VPOS=\"1428\" WIDTH=\"17\"/>\r\n",
      "\t\t\t\t\t\t<String ID=\"P81_ST00175\" HPOS=\"567\" VPOS=\"1395\" WIDTH=\"63\" HEIGHT=\"21\" CONTENT=\"was\" WC=\"0.62\" CC=\"901\"/>\r\n",
      "\t\t\t\t\t\t<SP ID=\"P81_SP00152\" HPOS=\"630\" VPOS=\"1428\" WIDTH=\"20\"/>\r\n",
      "\t\t\t\t\t\t<String ID=\"P81_ST00176\" HPOS=\"650\" VPOS=\"1389\" WIDTH=\"54\" HEIGHT=\"27\" CONTENT=\"not\" WC=\"0.76\" CC=\"520\"/>\r\n",
      "\t\t\t\t\t\t<SP ID=\"P81_SP00153\" HPOS=\"704\" VPOS=\"1428\" WIDTH=\"28\"/>\r\n",
      "\t\t\t\t\t\t<String ID=\"P81_ST00177\" HPOS=\"732\" VPOS=\"1384\" WIDTH=\"177\" HEIGHT=\"31\" CONTENT=\"incumbent\" WC=\"0.62\" CC=\"560706060\"/>\r\n",
      "\t\t\t\t\t</TextLine>\r\n",
      "\t\t\t\t\t<TextLine ID=\"P81_TL00024\" HPOS=\"87\" VPOS=\"1445\" WIDTH=\"821\" HEIGHT=\"45\">\r\n",
      "\t\t\t\t\t\t<String ID=\"P81_ST00178\" HPOS=\"87\" VPOS=\"1460\" WIDTH=\"82\" HEIGHT=\"30\" CONTENT=\"upon\" WC=\"0.42\" CC=\"6933\"/>\r\n",
      "\t\t\t\t\t\t<SP ID=\"P81_SP00154\" HPOS=\"169\" VPOS=\"1490\" WIDTH=\"25\"/>\r\n",
      "\t\t\t\t\t\t<String ID=\"P81_ST00179\" HPOS=\"194\" VPOS=\"1447\" WIDTH=\"63\" HEIGHT=\"42\" CONTENT=\"her,\" WC=\"0.66\" CC=\"7032\"/>\r\n",
      "\t\t\t\t\t\t<SP ID=\"P81_SP00155\" HPOS=\"257\" VPOS=\"1490\" WIDTH=\"19\"/>\r\n",
      "\t\t\t\t\t\t<String ID=\"P81_ST00180\" HPOS=\"276\" VPOS=\"1459\" WIDTH=\"19\" HEIGHT=\"20\" CONTENT=\"a\" WC=\"1.00\" CC=\"0\"/>\r\n",
      "\t\t\t\t\t\t<SP ID=\"P81_SP00156\" HPOS=\"295\" VPOS=\"1490\" WIDTH=\"21\"/>\r\n",
      "\t\t\t\t\t\t<String ID=\"P81_ST00181\" HPOS=\"316\" VPOS=\"1447\" WIDTH=\"88\" HEIGHT=\"32\" CONTENT=\"weak\" WC=\"0.60\" CC=\"9060\"/>\r\n",
      "\t\t\t\t\t\t<SP ID=\"P81_SP00157\" HPOS=\"404\" VPOS=\"1490\" WIDTH=\"27\"/>\r\n",
      "\t\t\t\t\t\t<String ID=\"P81_ST00182\" HPOS=\"431\" VPOS=\"1446\" WIDTH=\"113\" HEIGHT=\"33\" CONTENT=\"human\" WC=\"0.46\" CC=\"76507\"/>\r\n",
      "\t\t\t\t\t\t<SP ID=\"P81_SP00158\" HPOS=\"544\" VPOS=\"1490\" WIDTH=\"28\"/>\r\n",
      "\t\t\t\t\t\t<String ID=\"P81_ST00183\" HPOS=\"572\" VPOS=\"1450\" WIDTH=\"144\" HEIGHT=\"36\" CONTENT=\"creature,\" WC=\"0.90\" CC=\"000005102\"/>\r\n",
      "\t\t\t\t\t\t<SP ID=\"P81_SP00159\" HPOS=\"716\" VPOS=\"1490\" WIDTH=\"27\"/>\r\n",
      "\t\t\t\t\t\t<String ID=\"P81_ST00184\" HPOS=\"743\" VPOS=\"1450\" WIDTH=\"31\" HEIGHT=\"27\" CONTENT=\"to\" WC=\"0.89\" CC=\"20\"/>\r\n",
      "\t\t\t\t\t\t<SP ID=\"P81_SP00160\" HPOS=\"774\" VPOS=\"1490\" WIDTH=\"26\"/>\r\n",
      "\t\t\t\t\t\t<String ID=\"P81_ST00185\" HPOS=\"800\" VPOS=\"1445\" WIDTH=\"39\" HEIGHT=\"31\" CONTENT=\"be\" WC=\"0.67\" CC=\"60\"/>\r\n",
      "\t\t\t\t\t\t<SP ID=\"P81_SP00161\" HPOS=\"839\" VPOS=\"1490\" WIDTH=\"22\"/>\r\n",
      "\t\t\t\t\t\t<String ID=\"P81_ST00186\" HPOS=\"861\" VPOS=\"1456\" WIDTH=\"47\" HEIGHT=\"20\" CONTENT=\"re\" SUBS_TYPE=\"HypPart1\" SUBS_CONTENT=\"relentless.\" WC=\"0.74\" CC=\"402\"/>\r\n",
      "\t\t\t\t\t\t<HYP CONTENT=\"-\"/>\r\n",
      "\t\t\t\t\t</TextLine>\r\n",
      "\t\t\t\t\t<TextLine ID=\"P81_TL00025\" HPOS=\"86\" VPOS=\"1509\" WIDTH=\"131\" HEIGHT=\"31\">\r\n",
      "\t\t\t\t\t\t<String ID=\"P81_ST00187\" HPOS=\"86\" VPOS=\"1509\" WIDTH=\"131\" HEIGHT=\"31\" CONTENT=\"lentless.\" SUBS_TYPE=\"HypPart2\" SUBS_CONTENT=\"relentless.\" WC=\"0.69\" CC=\"406050540\"/>\r\n",
      "\t\t\t\t\t</TextLine>\r\n",
      "\t\t\t\t</TextBlock>\r\n",
      "\t\t\t</PrintSpace>\r\n",
      "\t\t</Page>\r\n",
      "\t</Layout>\r\n",
      "</alto>\r\n",
      "\n"
     ]
    }
   ],
   "source": [
    "print page_texts[15]"
   ]
  },
  {
   "cell_type": "code",
   "execution_count": 13,
   "metadata": {},
   "outputs": [
    {
     "data": {
      "text/plain": [
       "'71 LIGHTLY LOVING, LIGHTLY LOST. apart from the ordinary world, so exclusively divided between self-devotion and one grief, that to the unconscious grandeur of her soul all things grand came home. From the con - stant habit of measuring things by an Infinite standard, she had grown to be lenient to much that shocks the world, and to be only severe to such derelictions as it takes not into account. To her, Berthe de Mottefort, who had re - nounced the world for the sake of the man she loved, was not an object of Pharisaical loathing, as she was stated to be to the dainty dames who reputed themselves virtuous because they kept upon good terms with the world ; she was an object of intense commiseration, because she had sacrificed herself. And poor dear Aunt Clementine, who was a genuine Christian, and did her best and utmost to follow her divine Master\\'s teachings, thought that if he could be so pitiful towards the woman whom he told to \"go and sin no more,\" it was not incumbent upon her, a weak human creature, to be re - lentless.'"
      ]
     },
     "execution_count": 13,
     "metadata": {},
     "output_type": "execute_result"
    }
   ],
   "source": [
    "' '.join(page14.xpath('//*/@CONTENT'))"
   ]
  },
  {
   "cell_type": "code",
   "execution_count": 14,
   "metadata": {},
   "outputs": [],
   "source": [
    "string_els=page14.xpath('//String')"
   ]
  },
  {
   "cell_type": "code",
   "execution_count": 15,
   "metadata": {},
   "outputs": [
    {
     "data": {
      "text/plain": [
       "'71'"
      ]
     },
     "execution_count": 15,
     "metadata": {},
     "output_type": "execute_result"
    }
   ],
   "source": [
    "string_els[0].get('CONTENT')"
   ]
  },
  {
   "cell_type": "code",
   "execution_count": 16,
   "metadata": {},
   "outputs": [],
   "source": [
    "class PageElement(object):\n",
    "    def __init__(self,element):\n",
    "        self.x=int(element.get('HPOS'))\n",
    "        self.y=int(element.get('VPOS'))\n",
    "        self.width=int(element.get('WIDTH'))\n",
    "        self.height=int(element.get('HEIGHT'))\n",
    "        self.text=element.get('CONTENT')\n",
    "    def bbox(self):\n",
    "        return dict(\n",
    "            x=self.x,\n",
    "            y=self.y,\n",
    "            width=self.width,\n",
    "            height=self.height,\n",
    "            alpha=0.1,\n",
    "        )"
   ]
  },
  {
   "cell_type": "code",
   "execution_count": 17,
   "metadata": {},
   "outputs": [],
   "source": [
    "class Page(object):\n",
    "    def __init__(self,tree):\n",
    "        self.element=tree.xpath('//Page')[0]\n",
    "        self.width=int(self.element.get('WIDTH'))\n",
    "        self.height=int(self.element.get('HEIGHT'))\n",
    "        self.elements=[PageElement(el) for el in tree.xpath('//String')]"
   ]
  },
  {
   "cell_type": "code",
   "execution_count": 18,
   "metadata": {},
   "outputs": [],
   "source": [
    "from matplotlib.pyplot import figure\n",
    "import numpy as np\n",
    "%matplotlib inline\n"
   ]
  },
  {
   "cell_type": "code",
   "execution_count": 21,
   "metadata": {},
   "outputs": [
    {
     "name": "stdout",
     "output_type": "stream",
     "text": [
      "{'transform': CompositeGenericTransform(TransformWrapper(BlendedAffine2D(IdentityTransform(),IdentityTransform())), CompositeGenericTransform(BboxTransformFrom(TransformedBbox(Bbox([[0.0, 1710.0], [1079.0, 0.0]]), TransformWrapper(BlendedAffine2D(IdentityTransform(),IdentityTransform())))), BboxTransformTo(TransformedBbox(Bbox([[0.125, 0.125], [0.9, 0.88]]), BboxTransformTo(TransformedBbox(Bbox([[0.0, 0.0], [8.0, 6.0]]), Affine2D(array([[72.,  0.,  0.],\n",
      "       [ 0., 72.,  0.],\n",
      "       [ 0.,  0.,  1.]])))))))), 'height': 27, 'width': 31, 'x': 874, 'y': 79, 'alpha': 0.1}\n"
     ]
    },
    {
     "ename": "TypeError",
     "evalue": "type object got multiple values for keyword argument 'transform'",
     "output_type": "error",
     "traceback": [
      "\u001b[0;31m---------------------------------------------------------------------------\u001b[0m",
      "\u001b[0;31mTypeError\u001b[0m                                 Traceback (most recent call last)",
      "\u001b[0;32m<ipython-input-21-9693c64ab54b>\u001b[0m in \u001b[0;36m<module>\u001b[0;34m()\u001b[0m\n\u001b[1;32m     18\u001b[0m     \u001b[0;31m# and update the bbox\u001b[0m\u001b[0;34m\u001b[0m\u001b[0;34m\u001b[0m\u001b[0m\n\u001b[1;32m     19\u001b[0m     \u001b[0;32mprint\u001b[0m \u001b[0mebox\u001b[0m\u001b[0;34m\u001b[0m\u001b[0m\n\u001b[0;32m---> 20\u001b[0;31m     \u001b[0mtext\u001b[0m\u001b[0;34m.\u001b[0m\u001b[0mset_bbox\u001b[0m\u001b[0;34m(\u001b[0m\u001b[0mebox\u001b[0m\u001b[0;34m)\u001b[0m\u001b[0;34m\u001b[0m\u001b[0m\n\u001b[0m\u001b[1;32m     21\u001b[0m     \u001b[0;31m#text.set_transform(ebox['transform'])\u001b[0m\u001b[0;34m\u001b[0m\u001b[0;34m\u001b[0m\u001b[0m\n",
      "\u001b[0;32m/anaconda2/lib/python2.7/site-packages/matplotlib/text.pyc\u001b[0m in \u001b[0;36mset_bbox\u001b[0;34m(self, rectprops)\u001b[0m\n\u001b[1;32m    474\u001b[0m                                     \u001b[0mbbox_transmuter\u001b[0m\u001b[0;34m=\u001b[0m\u001b[0mbbox_transmuter\u001b[0m\u001b[0;34m,\u001b[0m\u001b[0;34m\u001b[0m\u001b[0m\n\u001b[1;32m    475\u001b[0m                                     \u001b[0mtransform\u001b[0m\u001b[0;34m=\u001b[0m\u001b[0mmtransforms\u001b[0m\u001b[0;34m.\u001b[0m\u001b[0mIdentityTransform\u001b[0m\u001b[0;34m(\u001b[0m\u001b[0;34m)\u001b[0m\u001b[0;34m,\u001b[0m\u001b[0;34m\u001b[0m\u001b[0m\n\u001b[0;32m--> 476\u001b[0;31m                                     **props)\n\u001b[0m\u001b[1;32m    477\u001b[0m         \u001b[0;32melse\u001b[0m\u001b[0;34m:\u001b[0m\u001b[0;34m\u001b[0m\u001b[0m\n\u001b[1;32m    478\u001b[0m             \u001b[0mself\u001b[0m\u001b[0;34m.\u001b[0m\u001b[0m_bbox_patch\u001b[0m \u001b[0;34m=\u001b[0m \u001b[0mNone\u001b[0m\u001b[0;34m\u001b[0m\u001b[0m\n",
      "\u001b[0;31mTypeError\u001b[0m: type object got multiple values for keyword argument 'transform'"
     ]
    },
    {
     "data": {
      "image/png": "[encoded data removed]",
      "text/plain": [
       "<matplotlib.figure.Figure at 0x119151210>"
      ]
     },
     "metadata": {},
     "output_type": "display_data"
    }
   ],
   "source": [
    "fig=figure(figsize=[8,6])\n",
    "\n",
    "page=Page(page14)\n",
    "axes=fig.add_subplot(1,1,1,xlim=[0,page.width],ylim=[page.height,0])\n",
    "for element in page.elements:\n",
    "    ebox=element.bbox()\n",
    "    ebox['transform']=axes.transData\n",
    "    # first, render a text patch\n",
    "    text=axes.text(element.x,element.y,element.text, verticalalignment='top', \n",
    "                    horizontalalignment='left')\n",
    "                    #fontsize=font_scaling,bbox=box)\n",
    "    # then, determine its bbox in data units\n",
    "    renderer = fig.canvas.get_renderer()\n",
    "    tbox=text.get_window_extent(renderer).transformed(axes.transData.inverted())\n",
    "    # then, change the fontsize to match its true bbox\n",
    "    theight=-1.0*tbox.height\n",
    "    text.set_fontsize(ebox['height']*text.get_fontsize()/theight)\n",
    "    # and update the bbox\n",
    "    print ebox\n",
    "    text.set_bbox(ebox)\n",
    "    #text.set_transform(ebox['transform'])\n"
   ]
  },
  {
   "cell_type": "code",
   "execution_count": null,
   "metadata": {},
   "outputs": [],
   "source": []
  },
  {
   "cell_type": "code",
   "execution_count": null,
   "metadata": {},
   "outputs": [],
   "source": []
  }
 ],
 "metadata": {
  "kernelspec": {
   "display_name": "Python 2",
   "language": "python",
   "name": "python2"
  },
  "language_info": {
   "codemirror_mode": {
    "name": "ipython",
    "version": 2
   },
   "file_extension": ".py",
   "mimetype": "text/x-python",
   "name": "python",
   "nbconvert_exporter": "python",
   "pygments_lexer": "ipython2",
   "version": "2.7.14"
  }
 },
 "nbformat": 4,
 "nbformat_minor": 1
}
