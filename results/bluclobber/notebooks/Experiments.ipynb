{
 "metadata": {
  "name": "",
  "signature": "sha256:758236b9d912c9ee39c5fcbde341007280c3150d3fc97e1538d78aa75c6f17bb"
 },
 "nbformat": 3,
 "nbformat_minor": 0,
 "worksheets": [
  {
   "cells": [
    {
     "cell_type": "code",
     "collapsed": false,
     "input": [
      "import os\n",
      "import sys\n",
      "import glob\n",
      "from lxml import etree"
     ],
     "language": "python",
     "metadata": {},
     "outputs": [],
     "prompt_number": ""
    },
    {
     "cell_type": "code",
     "collapsed": false,
     "input": [
      "fixtures=os.path.join(os.path.dirname(os.path.realpath('.')),'test','fixtures')"
     ],
     "language": "python",
     "metadata": {},
     "outputs": [],
     "prompt_number": ""
    },
    {
     "cell_type": "code",
     "collapsed": false,
     "input": [
      "zip_code='000000037'\n",
      "book_code='000000218'"
     ],
     "language": "python",
     "metadata": {},
     "outputs": [],
     "prompt_number": ""
    },
    {
     "cell_type": "code",
     "collapsed": false,
     "input": [
      "manchester_1=glob.glob(os.path.join(fixtures,zip_code+'*'))[0]"
     ],
     "language": "python",
     "metadata": {},
     "outputs": [],
     "prompt_number": ""
    },
    {
     "cell_type": "code",
     "collapsed": false,
     "input": [
      "metadata_path=glob.glob(os.path.join(manchester_1,book_code+'_metadata.xml'))[0]"
     ],
     "language": "python",
     "metadata": {},
     "outputs": [],
     "prompt_number": ""
    },
    {
     "cell_type": "code",
     "collapsed": false,
     "input": [
      "data_paths=glob.glob(os.path.join(manchester_1,'ALTO',book_code+'*'))"
     ],
     "language": "python",
     "metadata": {},
     "outputs": [],
     "prompt_number": ""
    },
    {
     "cell_type": "code",
     "collapsed": false,
     "input": [
      "metadata=etree.parse(metadata_path)"
     ],
     "language": "python",
     "metadata": {},
     "outputs": [],
     "prompt_number": ""
    },
    {
     "cell_type": "code",
     "collapsed": false,
     "input": [
      "metadata"
     ],
     "language": "python",
     "metadata": {},
     "outputs": [],
     "prompt_number": ""
    },
    {
     "cell_type": "code",
     "collapsed": false,
     "input": [
      "pages=[etree.parse(path) for path in data_paths]"
     ],
     "language": "python",
     "metadata": {},
     "outputs": [],
     "prompt_number": ""
    },
    {
     "cell_type": "code",
     "collapsed": false,
     "input": [
      "page14=pages[15]"
     ],
     "language": "python",
     "metadata": {},
     "outputs": [],
     "prompt_number": ""
    },
    {
     "cell_type": "code",
     "collapsed": false,
     "input": [
      "page_texts=[open(path).read() for path in data_paths]"
     ],
     "language": "python",
     "metadata": {},
     "outputs": [],
     "prompt_number": ""
    },
    {
     "cell_type": "code",
     "collapsed": false,
     "input": [
      "print page_texts[15]"
     ],
     "language": "python",
     "metadata": {},
     "outputs": [],
     "prompt_number": ""
    },
    {
     "cell_type": "code",
     "collapsed": false,
     "input": [
      "' '.join(page14.xpath('//*/@CONTENT'))"
     ],
     "language": "python",
     "metadata": {},
     "outputs": [],
     "prompt_number": ""
    },
    {
     "cell_type": "code",
     "collapsed": false,
     "input": [
      "string_els=page14.xpath('//String')"
     ],
     "language": "python",
     "metadata": {},
     "outputs": [],
     "prompt_number": ""
    },
    {
     "cell_type": "code",
     "collapsed": false,
     "input": [
      "string_els[0].get('CONTENT')"
     ],
     "language": "python",
     "metadata": {},
     "outputs": [],
     "prompt_number": ""
    },
    {
     "cell_type": "code",
     "collapsed": false,
     "input": [
      "class PageElement(object):\n",
      "    def __init__(self,element):\n",
      "        self.x=int(element.get('HPOS'))\n",
      "        self.y=int(element.get('VPOS'))\n",
      "        self.width=int(element.get('WIDTH'))\n",
      "        self.height=int(element.get('HEIGHT'))\n",
      "        self.text=element.get('CONTENT')\n",
      "    def bbox(self):\n",
      "        return dict(\n",
      "            x=self.x,\n",
      "            y=self.y,\n",
      "            width=self.width,\n",
      "            height=self.height,\n",
      "            alpha=0.1,\n",
      "        )"
     ],
     "language": "python",
     "metadata": {},
     "outputs": [],
     "prompt_number": ""
    },
    {
     "cell_type": "code",
     "collapsed": false,
     "input": [
      "class Page(object):\n",
      "    def __init__(self,tree):\n",
      "        self.element=tree.xpath('//Page')[0]\n",
      "        self.width=int(self.element.get('WIDTH'))\n",
      "        self.height=int(self.element.get('HEIGHT'))\n",
      "        self.elements=[PageElement(el) for el in tree.xpath('//String')]"
     ],
     "language": "python",
     "metadata": {},
     "outputs": [],
     "prompt_number": ""
    },
    {
     "cell_type": "code",
     "collapsed": false,
     "input": [
      "from matplotlib.pyplot import figure\n",
      "import numpy as np\n",
      "%matplotlib inline\n"
     ],
     "language": "python",
     "metadata": {},
     "outputs": [],
     "prompt_number": ""
    },
    {
     "cell_type": "code",
     "collapsed": false,
     "input": [
      "fig=figure(figsize=[8,6])\n",
      "\n",
      "page=Page(page14)\n",
      "axes=fig.add_subplot(1,1,1,xlim=[0,page.width],ylim=[page.height,0])\n",
      "for element in page.elements:\n",
      "    ebox=element.bbox()\n",
      "    ebox['transform']=axes.transData\n",
      "    # first, render a text patch\n",
      "    text=axes.text(element.x,element.y,element.text, verticalalignment='top', \n",
      "                    horizontalalignment='left')\n",
      "                    #fontsize=font_scaling,bbox=box)\n",
      "    # then, determine its bbox in data units\n",
      "    renderer = fig.canvas.get_renderer()\n",
      "    tbox=text.get_window_extent(renderer).transformed(axes.transData.inverted())\n",
      "    # then, change the fontsize to match its true bbox\n",
      "    theight=-1.0*tbox.height\n",
      "    text.set_fontsize(ebox['height']*text.get_fontsize()/theight)\n",
      "    # and update the bbox\n",
      "    text.set_bbox(ebox)\n"
     ],
     "language": "python",
     "metadata": {},
     "outputs": [],
     "prompt_number": ""
    },
    {
     "cell_type": "code",
     "collapsed": false,
     "input": [],
     "language": "python",
     "metadata": {},
     "outputs": [],
     "prompt_number": ""
    },
    {
     "cell_type": "code",
     "collapsed": false,
     "input": [],
     "language": "python",
     "metadata": {},
     "outputs": []
    }
   ],
   "metadata": {}
  }
 ]
}