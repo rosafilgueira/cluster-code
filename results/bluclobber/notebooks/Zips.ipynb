{
 "metadata": {
  "name": "",
  "signature": "sha256:177134f89f7291e0834c4765583d905475859404ad3713e21101eee48ceb1b59"
 },
 "nbformat": 3,
 "nbformat_minor": 0,
 "worksheets": [
  {
   "cells": [
    {
     "cell_type": "code",
     "collapsed": false,
     "input": [
      "import os\n",
      "import sys\n",
      "import glob\n",
      "import zipfile\n",
      "import re\n",
      "from lxml import etree\n",
      "from matplotlib.pyplot import figure\n",
      "import numpy as np\n",
      "%matplotlib inline"
     ],
     "language": "python",
     "metadata": {},
     "outputs": [],
     "prompt_number": ""
    },
    {
     "cell_type": "code",
     "collapsed": false,
     "input": [
      "class Archive(object):\n",
      "    def __init__(self, path):\n",
      "        self.zip = zipfile.ZipFile(path)\n",
      "        self.filenames = [entry.filename for entry in self.zip.infolist()]\n",
      "        book_pattern = re.compile('([0-9]*)_metadata\\.xml')\n",
      "        page_pattern = re.compile('ALTO\\/([0-9]*)_([0-9]*)\\.xml')\n",
      "        bookmatches=filter(None, [ book_pattern.match(name) for name in self.filenames ])\n",
      "        pagematches=filter(None, [ page_pattern.match(name) for name in self.filenames ])\n",
      "        self.book_codes={ match.group(1) : [] for match in bookmatches }\n",
      "        for match in pagematches:\n",
      "            self.book_codes[ match.group(1) ].append(match.group(2))\n",
      "            \n",
      "    def metadata_file(self, book_code):\n",
      "        return self.zip.open(book_code + '_metadata.xml')\n",
      "    \n",
      "    def page_file(self, book_code, page):\n",
      "        return self.zip.open('ALTO/' + book_code + '_' + page + '.xml')\n",
      "    \n",
      "    def __getitem__(self, index):\n",
      "        return Book(self.book_codes.keys()[index],self)"
     ],
     "language": "python",
     "metadata": {},
     "outputs": [],
     "prompt_number": ""
    },
    {
     "cell_type": "code",
     "collapsed": false,
     "input": [
      "class PageElement(object):\n",
      "    def __init__(self, element):\n",
      "        self.x=int(element.get('HPOS'))\n",
      "        self.y=int(element.get('VPOS'))\n",
      "        self.width=int(element.get('WIDTH'))\n",
      "        self.height=int(element.get('HEIGHT'))\n",
      "        self.text=element.get('CONTENT')\n",
      "        \n",
      "    def bbox(self):\n",
      "        return dict(\n",
      "            x=self.x,\n",
      "            y=self.y,\n",
      "            width=self.width,\n",
      "            height=self.height,\n",
      "            alpha=0.1\n",
      "        )"
     ],
     "language": "python",
     "metadata": {},
     "outputs": [],
     "prompt_number": ""
    },
    {
     "cell_type": "code",
     "collapsed": false,
     "input": [
      "class Page(object):\n",
      "    def __init__(self, source):\n",
      "        self.tree=etree.parse(source)\n",
      "        self.element=self.query('//Page')[0]\n",
      "        self.width=int(self.element.get('WIDTH'))\n",
      "        self.height=int(self.element.get('HEIGHT'))\n",
      "        self.elements=[PageElement(el) for el in self.query('//String')]\n",
      "        \n",
      "    def query(self, query):\n",
      "        return self.tree.xpath(query)\n",
      "    \n",
      "    def content(self):\n",
      "        return ' '.join(self.query('//*/@CONTENT'))\n",
      "    \n",
      "    def reconstruct(self, figure):\n",
      "        axes=figure.add_subplot(1, 1, 1, xlim=[0, self.width], ylim=[self.height, 0], aspect='equal')\n",
      "        for element in self.elements:\n",
      "            ebox=element.bbox()\n",
      "            ebox['transform']=axes.transData\n",
      "            # first, render a text patch\n",
      "            text=axes.text(element.x,element.y,element.text, verticalalignment='top', \n",
      "                    horizontalalignment='left')\n",
      "                    #fontsize=font_scaling,bbox=box)\n",
      "            # then, determine its bbox in data units\n",
      "            renderer = figure.canvas.get_renderer()\n",
      "            tbox=text.get_window_extent(renderer).transformed(axes.transData.inverted())\n",
      "            # then, change the fontsize to match its true bbox\n",
      "            theight=-1.0*tbox.height\n",
      "            text.set_fontsize(ebox['height']*text.get_fontsize()/theight)\n",
      "            # and update the bbox\n",
      "            text.set_bbox(ebox)\n"
     ],
     "language": "python",
     "metadata": {},
     "outputs": [],
     "prompt_number": ""
    },
    {
     "cell_type": "code",
     "collapsed": false,
     "input": [
      "class Book(object):\n",
      "    def __init__(self, code, archive):\n",
      "        self.namespaces= {\n",
      "            \"mods\":'http://www.loc.gov/mods/v3',\n",
      "            \"mets\":'http://www.loc.gov/METS/'\n",
      "        }\n",
      "        self.archive = archive\n",
      "        self.code = code\n",
      "        self.metadata=archive.metadata_file(code)\n",
      "        self.tree = etree.parse(self.metadata)\n",
      "        self.title=self.query('//mods:title/text()')[0]\n",
      "        self.page_codes = sorted(archive.book_codes[code], key=int)\n",
      "        \n",
      "    def query(self, query):\n",
      "        return self.tree.xpath(query, namespaces=self.namespaces)\n",
      "    \n",
      "    def __getitem__(self, index):\n",
      "        return Page(self.archive.page_file(self.code, self.page_codes[index]))\n",
      "    \n",
      "    def __iter__(self):\n",
      "        for page_code in self.page_codes:\n",
      "            yield Page(self.archive.page_file(self.code, page_code))"
     ],
     "language": "python",
     "metadata": {},
     "outputs": [],
     "prompt_number": ""
    },
    {
     "cell_type": "code",
     "collapsed": false,
     "input": [
      "class Corpus(object):\n",
      "    def __init__(self, zip_paths):\n",
      "        self.paths=zip_paths\n",
      "        \n",
      "    def __iter__(self):\n",
      "        for path in self.paths:\n",
      "            archive=Archive(path)\n",
      "            for book in archive.book_codes:\n",
      "                yield Book(book, archive)\n",
      "                \n",
      "    def __getitem__(self, index):\n",
      "        return Archive(self.paths[index])"
     ],
     "language": "python",
     "metadata": {},
     "outputs": [],
     "prompt_number": ""
    },
    {
     "cell_type": "code",
     "collapsed": false,
     "input": [
      "corp=Corpus(zips)"
     ],
     "language": "python",
     "metadata": {},
     "outputs": [],
     "prompt_number": ""
    },
    {
     "cell_type": "code",
     "collapsed": false,
     "input": [
      "fig=figure(figsize=[20,15])\n",
      "\n",
      "corp[0][0][25].reconstruct(fig)"
     ],
     "language": "python",
     "metadata": {},
     "outputs": [],
     "prompt_number": ""
    },
    {
     "cell_type": "code",
     "collapsed": false,
     "input": [
      "[book.title for book in corp]"
     ],
     "language": "python",
     "metadata": {},
     "outputs": [],
     "prompt_number": ""
    },
    {
     "cell_type": "code",
     "collapsed": false,
     "input": [],
     "language": "python",
     "metadata": {},
     "outputs": []
    }
   ],
   "metadata": {}
  }
 ]
}